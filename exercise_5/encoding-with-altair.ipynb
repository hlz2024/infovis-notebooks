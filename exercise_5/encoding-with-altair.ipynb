{
 "cells": [
  {
   "cell_type": "markdown",
   "id": "21307844",
   "metadata": {},
   "source": [
    "# Altairを使ったデータのエンコーディング"
   ]
  },
  {
   "cell_type": "markdown",
   "id": "7f75a026",
   "metadata": {},
   "source": [
    "Altairを使って、データから視覚記号への変換をもう少し練習してみましょう。"
   ]
  },
  {
   "cell_type": "code",
   "execution_count": 1,
   "id": "0665280c",
   "metadata": {},
   "outputs": [
    {
     "name": "stdout",
     "output_type": "stream",
     "text": [
      "Requirement already satisfied: altair in /opt/anaconda3/lib/python3.11/site-packages (5.0.1)\n",
      "Requirement already satisfied: jinja2 in /opt/anaconda3/lib/python3.11/site-packages (from altair) (3.1.3)\n",
      "Requirement already satisfied: jsonschema>=3.0 in /opt/anaconda3/lib/python3.11/site-packages (from altair) (4.19.2)\n",
      "Requirement already satisfied: numpy in /opt/anaconda3/lib/python3.11/site-packages (from altair) (1.26.4)\n",
      "Requirement already satisfied: pandas>=0.18 in /opt/anaconda3/lib/python3.11/site-packages (from altair) (2.1.4)\n",
      "Requirement already satisfied: toolz in /opt/anaconda3/lib/python3.11/site-packages (from altair) (0.12.0)\n",
      "Requirement already satisfied: attrs>=22.2.0 in /opt/anaconda3/lib/python3.11/site-packages (from jsonschema>=3.0->altair) (23.1.0)\n",
      "Requirement already satisfied: jsonschema-specifications>=2023.03.6 in /opt/anaconda3/lib/python3.11/site-packages (from jsonschema>=3.0->altair) (2023.7.1)\n",
      "Requirement already satisfied: referencing>=0.28.4 in /opt/anaconda3/lib/python3.11/site-packages (from jsonschema>=3.0->altair) (0.30.2)\n",
      "Requirement already satisfied: rpds-py>=0.7.1 in /opt/anaconda3/lib/python3.11/site-packages (from jsonschema>=3.0->altair) (0.10.6)\n",
      "Requirement already satisfied: python-dateutil>=2.8.2 in /opt/anaconda3/lib/python3.11/site-packages (from pandas>=0.18->altair) (2.8.2)\n",
      "Requirement already satisfied: pytz>=2020.1 in /opt/anaconda3/lib/python3.11/site-packages (from pandas>=0.18->altair) (2023.3.post1)\n",
      "Requirement already satisfied: tzdata>=2022.1 in /opt/anaconda3/lib/python3.11/site-packages (from pandas>=0.18->altair) (2023.3)\n",
      "Requirement already satisfied: MarkupSafe>=2.0 in /opt/anaconda3/lib/python3.11/site-packages (from jinja2->altair) (2.1.3)\n",
      "Requirement already satisfied: six>=1.5 in /opt/anaconda3/lib/python3.11/site-packages (from python-dateutil>=2.8.2->pandas>=0.18->altair) (1.16.0)\n",
      "Requirement already satisfied: vega_datasets in /opt/anaconda3/lib/python3.11/site-packages (0.9.0)\n",
      "Requirement already satisfied: pandas in /opt/anaconda3/lib/python3.11/site-packages (from vega_datasets) (2.1.4)\n",
      "Requirement already satisfied: numpy<2,>=1.23.2 in /opt/anaconda3/lib/python3.11/site-packages (from pandas->vega_datasets) (1.26.4)\n",
      "Requirement already satisfied: python-dateutil>=2.8.2 in /opt/anaconda3/lib/python3.11/site-packages (from pandas->vega_datasets) (2.8.2)\n",
      "Requirement already satisfied: pytz>=2020.1 in /opt/anaconda3/lib/python3.11/site-packages (from pandas->vega_datasets) (2023.3.post1)\n",
      "Requirement already satisfied: tzdata>=2022.1 in /opt/anaconda3/lib/python3.11/site-packages (from pandas->vega_datasets) (2023.3)\n",
      "Requirement already satisfied: six>=1.5 in /opt/anaconda3/lib/python3.11/site-packages (from python-dateutil>=2.8.2->pandas->vega_datasets) (1.16.0)\n"
     ]
    }
   ],
   "source": [
    "# ライブラリのインストール（初回のみ）\n",
    "\n",
    "!pip install altair\n",
    "!pip install vega_datasets"
   ]
  },
  {
   "cell_type": "code",
   "execution_count": 2,
   "id": "e2a4ecfd",
   "metadata": {},
   "outputs": [],
   "source": [
    "import altair as alt\n",
    "from vega_datasets import data as vega_data"
   ]
  },
  {
   "cell_type": "markdown",
   "id": "53762155",
   "metadata": {},
   "source": [
    "## Gapminderのデータの読み込み"
   ]
  },
  {
   "cell_type": "markdown",
   "id": "806cc431",
   "metadata": {},
   "source": [
    "1955年から2005年までの期間における、いくつかの国の健康と人口データを可視化してみましょう。このデータはGapminder Foundationによって収集され、ハンス・ロスリングのTEDトークで共有されたものです。\n",
    "\n",
    "まず、vega-datasetsコレクションからデータセットをPandasのデータフレームにロードします。"
   ]
  },
  {
   "cell_type": "code",
   "execution_count": 3,
   "id": "b039986d",
   "metadata": {},
   "outputs": [],
   "source": [
    "data = vega_data.gapminder()"
   ]
  },
  {
   "cell_type": "markdown",
   "id": "3ddbf228",
   "metadata": {},
   "source": [
    "データを確認します。"
   ]
  },
  {
   "cell_type": "code",
   "execution_count": 4,
   "id": "6545ed0a",
   "metadata": {},
   "outputs": [
    {
     "data": {
      "text/plain": [
       "(693, 6)"
      ]
     },
     "execution_count": 4,
     "metadata": {},
     "output_type": "execute_result"
    }
   ],
   "source": [
    "data.shape"
   ]
  },
  {
   "cell_type": "code",
   "execution_count": 5,
   "id": "e5acf1bb",
   "metadata": {},
   "outputs": [
    {
     "name": "stdout",
     "output_type": "stream",
     "text": [
      "<class 'pandas.core.frame.DataFrame'>\n",
      "RangeIndex: 693 entries, 0 to 692\n",
      "Data columns (total 6 columns):\n",
      " #   Column       Non-Null Count  Dtype  \n",
      "---  ------       --------------  -----  \n",
      " 0   year         693 non-null    int64  \n",
      " 1   country      693 non-null    object \n",
      " 2   cluster      693 non-null    int64  \n",
      " 3   pop          693 non-null    int64  \n",
      " 4   life_expect  693 non-null    float64\n",
      " 5   fertility    693 non-null    float64\n",
      "dtypes: float64(2), int64(3), object(1)\n",
      "memory usage: 32.6+ KB\n"
     ]
    }
   ],
   "source": [
    "data.info()"
   ]
  },
  {
   "cell_type": "code",
   "execution_count": 6,
   "id": "7c7eae6e",
   "metadata": {},
   "outputs": [
    {
     "data": {
      "text/html": [
       "<div>\n",
       "<style scoped>\n",
       "    .dataframe tbody tr th:only-of-type {\n",
       "        vertical-align: middle;\n",
       "    }\n",
       "\n",
       "    .dataframe tbody tr th {\n",
       "        vertical-align: top;\n",
       "    }\n",
       "\n",
       "    .dataframe thead th {\n",
       "        text-align: right;\n",
       "    }\n",
       "</style>\n",
       "<table border=\"1\" class=\"dataframe\">\n",
       "  <thead>\n",
       "    <tr style=\"text-align: right;\">\n",
       "      <th></th>\n",
       "      <th>year</th>\n",
       "      <th>country</th>\n",
       "      <th>cluster</th>\n",
       "      <th>pop</th>\n",
       "      <th>life_expect</th>\n",
       "      <th>fertility</th>\n",
       "    </tr>\n",
       "  </thead>\n",
       "  <tbody>\n",
       "    <tr>\n",
       "      <th>0</th>\n",
       "      <td>1955</td>\n",
       "      <td>Afghanistan</td>\n",
       "      <td>0</td>\n",
       "      <td>8891209</td>\n",
       "      <td>30.332</td>\n",
       "      <td>7.7</td>\n",
       "    </tr>\n",
       "    <tr>\n",
       "      <th>1</th>\n",
       "      <td>1960</td>\n",
       "      <td>Afghanistan</td>\n",
       "      <td>0</td>\n",
       "      <td>9829450</td>\n",
       "      <td>31.997</td>\n",
       "      <td>7.7</td>\n",
       "    </tr>\n",
       "    <tr>\n",
       "      <th>2</th>\n",
       "      <td>1965</td>\n",
       "      <td>Afghanistan</td>\n",
       "      <td>0</td>\n",
       "      <td>10997885</td>\n",
       "      <td>34.020</td>\n",
       "      <td>7.7</td>\n",
       "    </tr>\n",
       "    <tr>\n",
       "      <th>3</th>\n",
       "      <td>1970</td>\n",
       "      <td>Afghanistan</td>\n",
       "      <td>0</td>\n",
       "      <td>12430623</td>\n",
       "      <td>36.088</td>\n",
       "      <td>7.7</td>\n",
       "    </tr>\n",
       "    <tr>\n",
       "      <th>4</th>\n",
       "      <td>1975</td>\n",
       "      <td>Afghanistan</td>\n",
       "      <td>0</td>\n",
       "      <td>14132019</td>\n",
       "      <td>38.438</td>\n",
       "      <td>7.7</td>\n",
       "    </tr>\n",
       "  </tbody>\n",
       "</table>\n",
       "</div>"
      ],
      "text/plain": [
       "   year      country  cluster       pop  life_expect  fertility\n",
       "0  1955  Afghanistan        0   8891209       30.332        7.7\n",
       "1  1960  Afghanistan        0   9829450       31.997        7.7\n",
       "2  1965  Afghanistan        0  10997885       34.020        7.7\n",
       "3  1970  Afghanistan        0  12430623       36.088        7.7\n",
       "4  1975  Afghanistan        0  14132019       38.438        7.7"
      ]
     },
     "execution_count": 6,
     "metadata": {},
     "output_type": "execute_result"
    }
   ],
   "source": [
    "data.head()"
   ]
  },
  {
   "cell_type": "markdown",
   "id": "52928687",
   "metadata": {},
   "source": [
    "各国（`country`）・各年（`year`, 5年間隔）ごとに、女性一人当たりの子供の数（`fertility`）、平均寿命（`life_expect`）、総人口（`pop`）を測定しています。これがデータ変数です。\n",
    "\n",
    "また、クラスタのフィールドには、整数が表示されています。これは何を表しているのでしょうか？データを可視化しながら、これを明らかにしていきましょう。"
   ]
  },
  {
   "cell_type": "markdown",
   "id": "58392aa3",
   "metadata": {},
   "source": [
    "さらに、2000年の値だけに絞り込んで、より小さなデータフレームを作成します。"
   ]
  },
  {
   "cell_type": "code",
   "execution_count": 7,
   "id": "b55593a6",
   "metadata": {},
   "outputs": [],
   "source": [
    "data2000 = data[data[\"year\"] == 2000]"
   ]
  },
  {
   "cell_type": "code",
   "execution_count": 8,
   "id": "53151a8b",
   "metadata": {},
   "outputs": [
    {
     "data": {
      "text/html": [
       "<div>\n",
       "<style scoped>\n",
       "    .dataframe tbody tr th:only-of-type {\n",
       "        vertical-align: middle;\n",
       "    }\n",
       "\n",
       "    .dataframe tbody tr th {\n",
       "        vertical-align: top;\n",
       "    }\n",
       "\n",
       "    .dataframe thead th {\n",
       "        text-align: right;\n",
       "    }\n",
       "</style>\n",
       "<table border=\"1\" class=\"dataframe\">\n",
       "  <thead>\n",
       "    <tr style=\"text-align: right;\">\n",
       "      <th></th>\n",
       "      <th>year</th>\n",
       "      <th>country</th>\n",
       "      <th>cluster</th>\n",
       "      <th>pop</th>\n",
       "      <th>life_expect</th>\n",
       "      <th>fertility</th>\n",
       "    </tr>\n",
       "  </thead>\n",
       "  <tbody>\n",
       "    <tr>\n",
       "      <th>9</th>\n",
       "      <td>2000</td>\n",
       "      <td>Afghanistan</td>\n",
       "      <td>0</td>\n",
       "      <td>23898198</td>\n",
       "      <td>42.129</td>\n",
       "      <td>7.4792</td>\n",
       "    </tr>\n",
       "    <tr>\n",
       "      <th>20</th>\n",
       "      <td>2000</td>\n",
       "      <td>Argentina</td>\n",
       "      <td>3</td>\n",
       "      <td>37497728</td>\n",
       "      <td>74.340</td>\n",
       "      <td>2.3500</td>\n",
       "    </tr>\n",
       "    <tr>\n",
       "      <th>31</th>\n",
       "      <td>2000</td>\n",
       "      <td>Aruba</td>\n",
       "      <td>3</td>\n",
       "      <td>69539</td>\n",
       "      <td>73.451</td>\n",
       "      <td>2.1240</td>\n",
       "    </tr>\n",
       "    <tr>\n",
       "      <th>42</th>\n",
       "      <td>2000</td>\n",
       "      <td>Australia</td>\n",
       "      <td>4</td>\n",
       "      <td>19164620</td>\n",
       "      <td>80.370</td>\n",
       "      <td>1.7560</td>\n",
       "    </tr>\n",
       "    <tr>\n",
       "      <th>53</th>\n",
       "      <td>2000</td>\n",
       "      <td>Austria</td>\n",
       "      <td>1</td>\n",
       "      <td>8113413</td>\n",
       "      <td>78.980</td>\n",
       "      <td>1.3820</td>\n",
       "    </tr>\n",
       "  </tbody>\n",
       "</table>\n",
       "</div>"
      ],
      "text/plain": [
       "    year      country  cluster       pop  life_expect  fertility\n",
       "9   2000  Afghanistan        0  23898198       42.129     7.4792\n",
       "20  2000    Argentina        3  37497728       74.340     2.3500\n",
       "31  2000        Aruba        3     69539       73.451     2.1240\n",
       "42  2000    Australia        4  19164620       80.370     1.7560\n",
       "53  2000      Austria        1   8113413       78.980     1.3820"
      ]
     },
     "execution_count": 8,
     "metadata": {},
     "output_type": "execute_result"
    }
   ],
   "source": [
    "data2000.head()"
   ]
  },
  {
   "cell_type": "markdown",
   "id": "ba71ee6c",
   "metadata": {},
   "source": [
    "## データ変数の性質"
   ]
  },
  {
   "cell_type": "markdown",
   "id": "281be6d1",
   "metadata": {},
   "source": [
    "Altairではテキストを直接扱うことはできません。また、間隔尺度と比例尺度を量的尺度としてまとめて扱っています。\n",
    "\n",
    "そのため、ここではデータ変数の性質のうち、名義尺度、順序尺度、量的尺度（間隔尺度、比例尺度）について見ていきます。"
   ]
  },
  {
   "cell_type": "markdown",
   "id": "a9a41f7a",
   "metadata": {},
   "source": [
    "### 名義尺度（Nominal, N）\n",
    "\n",
    "名義尺度のデータ変数は、はカテゴリー名で構成されます。\n",
    "\n",
    "値Aと値Bは同じか違うか（A = B）というような、値の等質性を比較することができます。上のデータセットでは、`country`は名義尺度です。\n",
    "\n",
    "位置、色相（青、赤、緑など）、形状を見れば、値が同じか異なるかがすぐに分かります。しかし、大きさを使用して名義尺度を変換すると、存在しない値間の順位や大きさの違いを示唆し、誤解を招く恐れがあります。"
   ]
  },
  {
   "cell_type": "markdown",
   "id": "b82152b0",
   "metadata": {},
   "source": [
    "### 順位尺度（Ordinal, O）\n",
    "\n",
    "順序データは、特定の順序を持つ値で構成されます。\n",
    "\n",
    "値Aは値Bの前か後か?（A < B）というような比較をすることができます。上のデータセットでは、5年間隔の`year`を順序尺度として扱うことができます。\n",
    "\n",
    "順序尺度のデータ変数を可視化する場合は、順序の感覚に合わせる必要があります。位置、大きさ、明るさなどが適切で、色相（知覚的に順序がないか直感的には分からない）はあまり適切ではありません。"
   ]
  },
  {
   "cell_type": "markdown",
   "id": "c5d7e4da",
   "metadata": {},
   "source": [
    "### 量的尺度（Quantitative, Q）\n",
    "\n",
    "量的尺度では、数値の違いを測定することができます。量的尺度には、2種類あります。\n",
    "\n",
    "間隔尺度では、点間の距離（区間）を測定することができます。値Bから値Aまでの距離は何メートルk？（A - B）のような計算をすることができます。\n",
    "\n",
    "比例尺度では、ゼロに意味があるので、比率を計算することができます。値Aは値Bの何％か？（A / B）のような計算が可能です。\n",
    "\n",
    "上のデータセットでは、`year`は間隔尺度（yearの値「0」は一つの目安であり、量が存在しないことを意味しない）、`fertility`と`life_expect`は比例尺度です。\n",
    "\n",
    "量的尺度は、位置、サイズ、明るさなどを使用して可視化することができます。ベースラインがゼロの軸は、比例尺度の比較には必須ですが、間隔尺度の比較では省略することが可能です。"
   ]
  },
  {
   "cell_type": "markdown",
   "id": "6402cb22",
   "metadata": {},
   "source": [
    "### 補足"
   ]
  },
  {
   "cell_type": "markdown",
   "id": "aed3b246",
   "metadata": {},
   "source": [
    "これらのデータ型は相互に排他的ではなく、階層を形成しています。量的尺度は順序尺度を含み、順序尺度は名義尺度を含みます。\n",
    "\n",
    "そのため、変数は1つの性質のみを持っているわけではありません。変数が数値で表現されていても、名義尺度や順序尺度として扱うことができます。例えば、年齢（10歳、20歳など）は、名義尺度（未成年、成人）、順序尺度（年ごとにグループ化）、定量尺度として扱うことができます。\n",
    "\n",
    "次に、これらのデータ変数をどのように可視化するかを見てみましょう。"
   ]
  },
  {
   "cell_type": "code",
   "execution_count": 9,
   "id": "05d99282-8b9e-45a4-82d7-573bbfe004e4",
   "metadata": {},
   "outputs": [],
   "source": [
    "# 講義用：PythonのWarning（警告）を非表示にする設定\n",
    "import warnings\n",
    "warnings.filterwarnings(\"ignore\")"
   ]
  },
  {
   "cell_type": "markdown",
   "id": "ed5a476a",
   "metadata": {},
   "source": [
    "## 視覚変数"
   ]
  },
  {
   "cell_type": "markdown",
   "id": "3afed51e",
   "metadata": {},
   "source": [
    "Altairでは、視覚記号をmarkといいます。また、視覚変数はencoding channelに含まれます。\n",
    "\n",
    "主な視覚変数は次の通りです。\n",
    "\n",
    "* `x`: x軸の位置\n",
    "* `y`: y軸の位置\n",
    "* `size`: 視覚記号（mark）の大きさ。視覚記号によって、面積または長さに対応する\n",
    "* `color`: 色\n",
    "* `opacity`: 不透明度。0（透明）–1（不透明）の値をとる\n",
    "* `shape`: 視覚記号の形\n",
    "\n",
    "その他、視覚変数ではなく、（次回勉強する）デザイン原則もencoding channelに含まれます。\n",
    "\n",
    "* `tooltip`: 視覚記号の上にマウスを置いたときに表示される内容\n",
    "* `order`: 視覚記号の描画順序\n",
    "* `column`: 複数の可視化を左右に描画\n",
    "* `row`: 複数の可視化を上下に描画"
   ]
  },
  {
   "cell_type": "markdown",
   "id": "15a7c8c7",
   "metadata": {},
   "source": [
    "### X"
   ]
  },
  {
   "cell_type": "markdown",
   "id": "7bf70340",
   "metadata": {},
   "source": [
    "`x`は、視覚記号のx座標を設定します。軸とタイトルはデフォルトで表示されます。量的尺度を選択すると、軸のスケールが連続した直線になります。"
   ]
  },
  {
   "cell_type": "code",
   "execution_count": 10,
   "id": "6524464e",
   "metadata": {},
   "outputs": [
    {
     "data": {
      "text/html": [
       "\n",
       "<style>\n",
       "  #altair-viz-285feceb324c449a8d6d38503427332b.vega-embed {\n",
       "    width: 100%;\n",
       "    display: flex;\n",
       "  }\n",
       "\n",
       "  #altair-viz-285feceb324c449a8d6d38503427332b.vega-embed details,\n",
       "  #altair-viz-285feceb324c449a8d6d38503427332b.vega-embed details summary {\n",
       "    position: relative;\n",
       "  }\n",
       "</style>\n",
       "<div id=\"altair-viz-285feceb324c449a8d6d38503427332b\"></div>\n",
       "<script type=\"text/javascript\">\n",
       "  var VEGA_DEBUG = (typeof VEGA_DEBUG == \"undefined\") ? {} : VEGA_DEBUG;\n",
       "  (function(spec, embedOpt){\n",
       "    let outputDiv = document.currentScript.previousElementSibling;\n",
       "    if (outputDiv.id !== \"altair-viz-285feceb324c449a8d6d38503427332b\") {\n",
       "      outputDiv = document.getElementById(\"altair-viz-285feceb324c449a8d6d38503427332b\");\n",
       "    }\n",
       "    const paths = {\n",
       "      \"vega\": \"https://cdn.jsdelivr.net/npm/vega@5?noext\",\n",
       "      \"vega-lib\": \"https://cdn.jsdelivr.net/npm/vega-lib?noext\",\n",
       "      \"vega-lite\": \"https://cdn.jsdelivr.net/npm/vega-lite@5.8.0?noext\",\n",
       "      \"vega-embed\": \"https://cdn.jsdelivr.net/npm/vega-embed@6?noext\",\n",
       "    };\n",
       "\n",
       "    function maybeLoadScript(lib, version) {\n",
       "      var key = `${lib.replace(\"-\", \"\")}_version`;\n",
       "      return (VEGA_DEBUG[key] == version) ?\n",
       "        Promise.resolve(paths[lib]) :\n",
       "        new Promise(function(resolve, reject) {\n",
       "          var s = document.createElement('script');\n",
       "          document.getElementsByTagName(\"head\")[0].appendChild(s);\n",
       "          s.async = true;\n",
       "          s.onload = () => {\n",
       "            VEGA_DEBUG[key] = version;\n",
       "            return resolve(paths[lib]);\n",
       "          };\n",
       "          s.onerror = () => reject(`Error loading script: ${paths[lib]}`);\n",
       "          s.src = paths[lib];\n",
       "        });\n",
       "    }\n",
       "\n",
       "    function showError(err) {\n",
       "      outputDiv.innerHTML = `<div class=\"error\" style=\"color:red;\">${err}</div>`;\n",
       "      throw err;\n",
       "    }\n",
       "\n",
       "    function displayChart(vegaEmbed) {\n",
       "      vegaEmbed(outputDiv, spec, embedOpt)\n",
       "        .catch(err => showError(`Javascript Error: ${err.message}<br>This usually means there's a typo in your chart specification. See the javascript console for the full traceback.`));\n",
       "    }\n",
       "\n",
       "    if(typeof define === \"function\" && define.amd) {\n",
       "      requirejs.config({paths});\n",
       "      require([\"vega-embed\"], displayChart, err => showError(`Error loading script: ${err.message}`));\n",
       "    } else {\n",
       "      maybeLoadScript(\"vega\", \"5\")\n",
       "        .then(() => maybeLoadScript(\"vega-lite\", \"5.8.0\"))\n",
       "        .then(() => maybeLoadScript(\"vega-embed\", \"6\"))\n",
       "        .catch(showError)\n",
       "        .then(() => displayChart(vegaEmbed));\n",
       "    }\n",
       "  })({\"config\": {\"view\": {\"continuousWidth\": 300, \"continuousHeight\": 300}}, \"data\": {\"name\": \"data-fdeb0b749a6385830bd1445d39ad6ea0\"}, \"mark\": {\"type\": \"point\"}, \"encoding\": {\"x\": {\"field\": \"fertility\", \"type\": \"quantitative\"}}, \"$schema\": \"https://vega.github.io/schema/vega-lite/v5.8.0.json\", \"datasets\": {\"data-fdeb0b749a6385830bd1445d39ad6ea0\": [{\"year\": 2000, \"country\": \"Afghanistan\", \"cluster\": 0, \"pop\": 23898198, \"life_expect\": 42.129, \"fertility\": 7.4792}, {\"year\": 2000, \"country\": \"Argentina\", \"cluster\": 3, \"pop\": 37497728, \"life_expect\": 74.34, \"fertility\": 2.35}, {\"year\": 2000, \"country\": \"Aruba\", \"cluster\": 3, \"pop\": 69539, \"life_expect\": 73.451, \"fertility\": 2.124}, {\"year\": 2000, \"country\": \"Australia\", \"cluster\": 4, \"pop\": 19164620, \"life_expect\": 80.37, \"fertility\": 1.756}, {\"year\": 2000, \"country\": \"Austria\", \"cluster\": 1, \"pop\": 8113413, \"life_expect\": 78.98, \"fertility\": 1.3820000000000001}, {\"year\": 2000, \"country\": \"Bahamas\", \"cluster\": 3, \"pop\": 290075, \"life_expect\": 71.068, \"fertility\": 2.1111}, {\"year\": 2000, \"country\": \"Bangladesh\", \"cluster\": 0, \"pop\": 130406594, \"life_expect\": 62.013, \"fertility\": 3.224}, {\"year\": 2000, \"country\": \"Barbados\", \"cluster\": 3, \"pop\": 273483, \"life_expect\": 75.97, \"fertility\": 1.5}, {\"year\": 2000, \"country\": \"Belgium\", \"cluster\": 1, \"pop\": 10263618, \"life_expect\": 78.32, \"fertility\": 1.638}, {\"year\": 2000, \"country\": \"Bolivia\", \"cluster\": 3, \"pop\": 8152620, \"life_expect\": 63.883, \"fertility\": 3.9585}, {\"year\": 2000, \"country\": \"Brazil\", \"cluster\": 3, \"pop\": 175552771, \"life_expect\": 71.006, \"fertility\": 2.345}, {\"year\": 2000, \"country\": \"Canada\", \"cluster\": 3, \"pop\": 31278097, \"life_expect\": 79.77, \"fertility\": 1.522}, {\"year\": 2000, \"country\": \"Chile\", \"cluster\": 3, \"pop\": 15153450, \"life_expect\": 77.86, \"fertility\": 2.0}, {\"year\": 2000, \"country\": \"China\", \"cluster\": 4, \"pop\": 1262645000, \"life_expect\": 72.028, \"fertility\": 1.7000000000000002}, {\"year\": 2000, \"country\": \"Colombia\", \"cluster\": 3, \"pop\": 39685655, \"life_expect\": 71.682, \"fertility\": 2.4705}, {\"year\": 2000, \"country\": \"Costa Rica\", \"cluster\": 3, \"pop\": 3710558, \"life_expect\": 78.123, \"fertility\": 2.2815}, {\"year\": 2000, \"country\": \"Croatia\", \"cluster\": 1, \"pop\": 4410830, \"life_expect\": 74.876, \"fertility\": 1.348}, {\"year\": 2000, \"country\": \"Cuba\", \"cluster\": 3, \"pop\": 11134273, \"life_expect\": 77.158, \"fertility\": 1.63}, {\"year\": 2000, \"country\": \"Dominican Republic\", \"cluster\": 3, \"pop\": 8385828, \"life_expect\": 70.847, \"fertility\": 2.95}, {\"year\": 2000, \"country\": \"Ecuador\", \"cluster\": 3, \"pop\": 12505204, \"life_expect\": 74.173, \"fertility\": 2.8175}, {\"year\": 2000, \"country\": \"Egypt\", \"cluster\": 5, \"pop\": 70492342, \"life_expect\": 69.806, \"fertility\": 3.174}, {\"year\": 2000, \"country\": \"El Salvador\", \"cluster\": 3, \"pop\": 6122515, \"life_expect\": 70.734, \"fertility\": 2.883}, {\"year\": 2000, \"country\": \"Finland\", \"cluster\": 1, \"pop\": 5168595, \"life_expect\": 78.37, \"fertility\": 1.754}, {\"year\": 2000, \"country\": \"France\", \"cluster\": 1, \"pop\": 59381628, \"life_expect\": 79.59, \"fertility\": 1.8833000000000002}, {\"year\": 2000, \"country\": \"Georgia\", \"cluster\": 1, \"pop\": 4777209, \"life_expect\": 70.476, \"fertility\": 1.478}, {\"year\": 2000, \"country\": \"Germany\", \"cluster\": 1, \"pop\": 82187909, \"life_expect\": 78.67, \"fertility\": 1.346}, {\"year\": 2000, \"country\": \"Greece\", \"cluster\": 1, \"pop\": 10559110, \"life_expect\": 78.256, \"fertility\": 1.2770000000000001}, {\"year\": 2000, \"country\": \"Grenada\", \"cluster\": 3, \"pop\": 89312, \"life_expect\": 67.746, \"fertility\": 2.429}, {\"year\": 2000, \"country\": \"Haiti\", \"cluster\": 3, \"pop\": 7306302, \"life_expect\": 58.137, \"fertility\": 4.0}, {\"year\": 2000, \"country\": \"Hong Kong\", \"cluster\": 4, \"pop\": 6658720, \"life_expect\": 81.495, \"fertility\": 0.9400000000000001}, {\"year\": 2000, \"country\": \"Iceland\", \"cluster\": 1, \"pop\": 281043, \"life_expect\": 80.5, \"fertility\": 1.9929999999999999}, {\"year\": 2000, \"country\": \"India\", \"cluster\": 0, \"pop\": 1007702000, \"life_expect\": 62.879, \"fertility\": 3.1132}, {\"year\": 2000, \"country\": \"Indonesia\", \"cluster\": 4, \"pop\": 206265000, \"life_expect\": 68.588, \"fertility\": 2.3761}, {\"year\": 2000, \"country\": \"Iran\", \"cluster\": 5, \"pop\": 65660289, \"life_expect\": 69.451, \"fertility\": 2.124}, {\"year\": 2000, \"country\": \"Iraq\", \"cluster\": 5, \"pop\": 22675617, \"life_expect\": 57.046, \"fertility\": 4.858}, {\"year\": 2000, \"country\": \"Ireland\", \"cluster\": 1, \"pop\": 3791690, \"life_expect\": 77.783, \"fertility\": 1.9689999999999999}, {\"year\": 2000, \"country\": \"Israel\", \"cluster\": 5, \"pop\": 5842454, \"life_expect\": 79.696, \"fertility\": 2.906}, {\"year\": 2000, \"country\": \"Italy\", \"cluster\": 1, \"pop\": 57719337, \"life_expect\": 80.24, \"fertility\": 1.286}, {\"year\": 2000, \"country\": \"Jamaica\", \"cluster\": 3, \"pop\": 2615467, \"life_expect\": 72.047, \"fertility\": 2.628}, {\"year\": 2000, \"country\": \"Japan\", \"cluster\": 4, \"pop\": 126699784, \"life_expect\": 82.0, \"fertility\": 1.291}, {\"year\": 2000, \"country\": \"Kenya\", \"cluster\": 2, \"pop\": 29985839, \"life_expect\": 50.992, \"fertility\": 5.0}, {\"year\": 2000, \"country\": \"South Korea\", \"cluster\": 4, \"pop\": 21647682, \"life_expect\": 66.662, \"fertility\": 1.9173}, {\"year\": 2000, \"country\": \"North Korea\", \"cluster\": 4, \"pop\": 47351083, \"life_expect\": 77.045, \"fertility\": 1.242}, {\"year\": 2000, \"country\": \"Lebanon\", \"cluster\": 5, \"pop\": 3578036, \"life_expect\": 71.028, \"fertility\": 2.319}, {\"year\": 2000, \"country\": \"Mexico\", \"cluster\": 3, \"pop\": 99926620, \"life_expect\": 74.902, \"fertility\": 2.4005}, {\"year\": 2000, \"country\": \"Netherlands\", \"cluster\": 1, \"pop\": 15907853, \"life_expect\": 78.53, \"fertility\": 1.726}, {\"year\": 2000, \"country\": \"New Zealand\", \"cluster\": 4, \"pop\": 3819762, \"life_expect\": 79.11, \"fertility\": 1.964}, {\"year\": 2000, \"country\": \"Nigeria\", \"cluster\": 2, \"pop\": 114306700, \"life_expect\": 46.608, \"fertility\": 5.845}, {\"year\": 2000, \"country\": \"Norway\", \"cluster\": 1, \"pop\": 4492400, \"life_expect\": 79.05, \"fertility\": 1.8010000000000002}, {\"year\": 2000, \"country\": \"Pakistan\", \"cluster\": 0, \"pop\": 146342958, \"life_expect\": 63.61, \"fertility\": 3.9936}, {\"year\": 2000, \"country\": \"Peru\", \"cluster\": 3, \"pop\": 25979722, \"life_expect\": 69.906, \"fertility\": 2.7005}, {\"year\": 2000, \"country\": \"Philippines\", \"cluster\": 4, \"pop\": 79739825, \"life_expect\": 70.303, \"fertility\": 3.5436}, {\"year\": 2000, \"country\": \"Poland\", \"cluster\": 1, \"pop\": 38654164, \"life_expect\": 74.67, \"fertility\": 1.251}, {\"year\": 2000, \"country\": \"Portugal\", \"cluster\": 1, \"pop\": 10335597, \"life_expect\": 77.29, \"fertility\": 1.454}, {\"year\": 2000, \"country\": \"Rwanda\", \"cluster\": 2, \"pop\": 7507056, \"life_expect\": 43.413, \"fertility\": 6.01}, {\"year\": 2000, \"country\": \"Saudi Arabia\", \"cluster\": 5, \"pop\": 23153090, \"life_expect\": 71.626, \"fertility\": 3.81}, {\"year\": 2000, \"country\": \"South Africa\", \"cluster\": 2, \"pop\": 44066197, \"life_expect\": 53.365, \"fertility\": 2.802}, {\"year\": 2000, \"country\": \"Spain\", \"cluster\": 1, \"pop\": 40016081, \"life_expect\": 79.78, \"fertility\": 1.287}, {\"year\": 2000, \"country\": \"Switzerland\", \"cluster\": 1, \"pop\": 7266920, \"life_expect\": 80.62, \"fertility\": 1.415}, {\"year\": 2000, \"country\": \"Turkey\", \"cluster\": 1, \"pop\": 65666677, \"life_expect\": 70.845, \"fertility\": 2.23}, {\"year\": 2000, \"country\": \"United Kingdom\", \"cluster\": 1, \"pop\": 59522468, \"life_expect\": 78.471, \"fertility\": 1.695}, {\"year\": 2000, \"country\": \"United States\", \"cluster\": 3, \"pop\": 282338631, \"life_expect\": 77.31, \"fertility\": 2.038}, {\"year\": 2000, \"country\": \"Venezuela\", \"cluster\": 3, \"pop\": 23542649, \"life_expect\": 72.766, \"fertility\": 2.723}]}}, {\"mode\": \"vega-lite\"});\n",
       "</script>"
      ],
      "text/plain": [
       "alt.Chart(...)"
      ]
     },
     "execution_count": 10,
     "metadata": {},
     "output_type": "execute_result"
    }
   ],
   "source": [
    "alt.Chart(data2000).mark_point().encode(\n",
    "    alt.X('fertility:Q')\n",
    ")"
   ]
  },
  {
   "cell_type": "markdown",
   "id": "31aad9b5",
   "metadata": {},
   "source": [
    "### Y\n",
    "\n",
    "`y`は、視覚記号のy座標を設定します。ここでは、順序尺度のデータ（O）を使用しています。その結果、値ごとの離散軸が得られました。"
   ]
  },
  {
   "cell_type": "code",
   "execution_count": 11,
   "id": "3456e53d",
   "metadata": {},
   "outputs": [
    {
     "data": {
      "text/html": [
       "\n",
       "<style>\n",
       "  #altair-viz-445250c92b0843c49af9993a1a27b102.vega-embed {\n",
       "    width: 100%;\n",
       "    display: flex;\n",
       "  }\n",
       "\n",
       "  #altair-viz-445250c92b0843c49af9993a1a27b102.vega-embed details,\n",
       "  #altair-viz-445250c92b0843c49af9993a1a27b102.vega-embed details summary {\n",
       "    position: relative;\n",
       "  }\n",
       "</style>\n",
       "<div id=\"altair-viz-445250c92b0843c49af9993a1a27b102\"></div>\n",
       "<script type=\"text/javascript\">\n",
       "  var VEGA_DEBUG = (typeof VEGA_DEBUG == \"undefined\") ? {} : VEGA_DEBUG;\n",
       "  (function(spec, embedOpt){\n",
       "    let outputDiv = document.currentScript.previousElementSibling;\n",
       "    if (outputDiv.id !== \"altair-viz-445250c92b0843c49af9993a1a27b102\") {\n",
       "      outputDiv = document.getElementById(\"altair-viz-445250c92b0843c49af9993a1a27b102\");\n",
       "    }\n",
       "    const paths = {\n",
       "      \"vega\": \"https://cdn.jsdelivr.net/npm/vega@5?noext\",\n",
       "      \"vega-lib\": \"https://cdn.jsdelivr.net/npm/vega-lib?noext\",\n",
       "      \"vega-lite\": \"https://cdn.jsdelivr.net/npm/vega-lite@5.8.0?noext\",\n",
       "      \"vega-embed\": \"https://cdn.jsdelivr.net/npm/vega-embed@6?noext\",\n",
       "    };\n",
       "\n",
       "    function maybeLoadScript(lib, version) {\n",
       "      var key = `${lib.replace(\"-\", \"\")}_version`;\n",
       "      return (VEGA_DEBUG[key] == version) ?\n",
       "        Promise.resolve(paths[lib]) :\n",
       "        new Promise(function(resolve, reject) {\n",
       "          var s = document.createElement('script');\n",
       "          document.getElementsByTagName(\"head\")[0].appendChild(s);\n",
       "          s.async = true;\n",
       "          s.onload = () => {\n",
       "            VEGA_DEBUG[key] = version;\n",
       "            return resolve(paths[lib]);\n",
       "          };\n",
       "          s.onerror = () => reject(`Error loading script: ${paths[lib]}`);\n",
       "          s.src = paths[lib];\n",
       "        });\n",
       "    }\n",
       "\n",
       "    function showError(err) {\n",
       "      outputDiv.innerHTML = `<div class=\"error\" style=\"color:red;\">${err}</div>`;\n",
       "      throw err;\n",
       "    }\n",
       "\n",
       "    function displayChart(vegaEmbed) {\n",
       "      vegaEmbed(outputDiv, spec, embedOpt)\n",
       "        .catch(err => showError(`Javascript Error: ${err.message}<br>This usually means there's a typo in your chart specification. See the javascript console for the full traceback.`));\n",
       "    }\n",
       "\n",
       "    if(typeof define === \"function\" && define.amd) {\n",
       "      requirejs.config({paths});\n",
       "      require([\"vega-embed\"], displayChart, err => showError(`Error loading script: ${err.message}`));\n",
       "    } else {\n",
       "      maybeLoadScript(\"vega\", \"5\")\n",
       "        .then(() => maybeLoadScript(\"vega-lite\", \"5.8.0\"))\n",
       "        .then(() => maybeLoadScript(\"vega-embed\", \"6\"))\n",
       "        .catch(showError)\n",
       "        .then(() => displayChart(vegaEmbed));\n",
       "    }\n",
       "  })({\"config\": {\"view\": {\"continuousWidth\": 300, \"continuousHeight\": 300}}, \"data\": {\"name\": \"data-fdeb0b749a6385830bd1445d39ad6ea0\"}, \"mark\": {\"type\": \"point\"}, \"encoding\": {\"x\": {\"field\": \"fertility\", \"type\": \"quantitative\"}, \"y\": {\"field\": \"cluster\", \"type\": \"ordinal\"}}, \"$schema\": \"https://vega.github.io/schema/vega-lite/v5.8.0.json\", \"datasets\": {\"data-fdeb0b749a6385830bd1445d39ad6ea0\": [{\"year\": 2000, \"country\": \"Afghanistan\", \"cluster\": 0, \"pop\": 23898198, \"life_expect\": 42.129, \"fertility\": 7.4792}, {\"year\": 2000, \"country\": \"Argentina\", \"cluster\": 3, \"pop\": 37497728, \"life_expect\": 74.34, \"fertility\": 2.35}, {\"year\": 2000, \"country\": \"Aruba\", \"cluster\": 3, \"pop\": 69539, \"life_expect\": 73.451, \"fertility\": 2.124}, {\"year\": 2000, \"country\": \"Australia\", \"cluster\": 4, \"pop\": 19164620, \"life_expect\": 80.37, \"fertility\": 1.756}, {\"year\": 2000, \"country\": \"Austria\", \"cluster\": 1, \"pop\": 8113413, \"life_expect\": 78.98, \"fertility\": 1.3820000000000001}, {\"year\": 2000, \"country\": \"Bahamas\", \"cluster\": 3, \"pop\": 290075, \"life_expect\": 71.068, \"fertility\": 2.1111}, {\"year\": 2000, \"country\": \"Bangladesh\", \"cluster\": 0, \"pop\": 130406594, \"life_expect\": 62.013, \"fertility\": 3.224}, {\"year\": 2000, \"country\": \"Barbados\", \"cluster\": 3, \"pop\": 273483, \"life_expect\": 75.97, \"fertility\": 1.5}, {\"year\": 2000, \"country\": \"Belgium\", \"cluster\": 1, \"pop\": 10263618, \"life_expect\": 78.32, \"fertility\": 1.638}, {\"year\": 2000, \"country\": \"Bolivia\", \"cluster\": 3, \"pop\": 8152620, \"life_expect\": 63.883, \"fertility\": 3.9585}, {\"year\": 2000, \"country\": \"Brazil\", \"cluster\": 3, \"pop\": 175552771, \"life_expect\": 71.006, \"fertility\": 2.345}, {\"year\": 2000, \"country\": \"Canada\", \"cluster\": 3, \"pop\": 31278097, \"life_expect\": 79.77, \"fertility\": 1.522}, {\"year\": 2000, \"country\": \"Chile\", \"cluster\": 3, \"pop\": 15153450, \"life_expect\": 77.86, \"fertility\": 2.0}, {\"year\": 2000, \"country\": \"China\", \"cluster\": 4, \"pop\": 1262645000, \"life_expect\": 72.028, \"fertility\": 1.7000000000000002}, {\"year\": 2000, \"country\": \"Colombia\", \"cluster\": 3, \"pop\": 39685655, \"life_expect\": 71.682, \"fertility\": 2.4705}, {\"year\": 2000, \"country\": \"Costa Rica\", \"cluster\": 3, \"pop\": 3710558, \"life_expect\": 78.123, \"fertility\": 2.2815}, {\"year\": 2000, \"country\": \"Croatia\", \"cluster\": 1, \"pop\": 4410830, \"life_expect\": 74.876, \"fertility\": 1.348}, {\"year\": 2000, \"country\": \"Cuba\", \"cluster\": 3, \"pop\": 11134273, \"life_expect\": 77.158, \"fertility\": 1.63}, {\"year\": 2000, \"country\": \"Dominican Republic\", \"cluster\": 3, \"pop\": 8385828, \"life_expect\": 70.847, \"fertility\": 2.95}, {\"year\": 2000, \"country\": \"Ecuador\", \"cluster\": 3, \"pop\": 12505204, \"life_expect\": 74.173, \"fertility\": 2.8175}, {\"year\": 2000, \"country\": \"Egypt\", \"cluster\": 5, \"pop\": 70492342, \"life_expect\": 69.806, \"fertility\": 3.174}, {\"year\": 2000, \"country\": \"El Salvador\", \"cluster\": 3, \"pop\": 6122515, \"life_expect\": 70.734, \"fertility\": 2.883}, {\"year\": 2000, \"country\": \"Finland\", \"cluster\": 1, \"pop\": 5168595, \"life_expect\": 78.37, \"fertility\": 1.754}, {\"year\": 2000, \"country\": \"France\", \"cluster\": 1, \"pop\": 59381628, \"life_expect\": 79.59, \"fertility\": 1.8833000000000002}, {\"year\": 2000, \"country\": \"Georgia\", \"cluster\": 1, \"pop\": 4777209, \"life_expect\": 70.476, \"fertility\": 1.478}, {\"year\": 2000, \"country\": \"Germany\", \"cluster\": 1, \"pop\": 82187909, \"life_expect\": 78.67, \"fertility\": 1.346}, {\"year\": 2000, \"country\": \"Greece\", \"cluster\": 1, \"pop\": 10559110, \"life_expect\": 78.256, \"fertility\": 1.2770000000000001}, {\"year\": 2000, \"country\": \"Grenada\", \"cluster\": 3, \"pop\": 89312, \"life_expect\": 67.746, \"fertility\": 2.429}, {\"year\": 2000, \"country\": \"Haiti\", \"cluster\": 3, \"pop\": 7306302, \"life_expect\": 58.137, \"fertility\": 4.0}, {\"year\": 2000, \"country\": \"Hong Kong\", \"cluster\": 4, \"pop\": 6658720, \"life_expect\": 81.495, \"fertility\": 0.9400000000000001}, {\"year\": 2000, \"country\": \"Iceland\", \"cluster\": 1, \"pop\": 281043, \"life_expect\": 80.5, \"fertility\": 1.9929999999999999}, {\"year\": 2000, \"country\": \"India\", \"cluster\": 0, \"pop\": 1007702000, \"life_expect\": 62.879, \"fertility\": 3.1132}, {\"year\": 2000, \"country\": \"Indonesia\", \"cluster\": 4, \"pop\": 206265000, \"life_expect\": 68.588, \"fertility\": 2.3761}, {\"year\": 2000, \"country\": \"Iran\", \"cluster\": 5, \"pop\": 65660289, \"life_expect\": 69.451, \"fertility\": 2.124}, {\"year\": 2000, \"country\": \"Iraq\", \"cluster\": 5, \"pop\": 22675617, \"life_expect\": 57.046, \"fertility\": 4.858}, {\"year\": 2000, \"country\": \"Ireland\", \"cluster\": 1, \"pop\": 3791690, \"life_expect\": 77.783, \"fertility\": 1.9689999999999999}, {\"year\": 2000, \"country\": \"Israel\", \"cluster\": 5, \"pop\": 5842454, \"life_expect\": 79.696, \"fertility\": 2.906}, {\"year\": 2000, \"country\": \"Italy\", \"cluster\": 1, \"pop\": 57719337, \"life_expect\": 80.24, \"fertility\": 1.286}, {\"year\": 2000, \"country\": \"Jamaica\", \"cluster\": 3, \"pop\": 2615467, \"life_expect\": 72.047, \"fertility\": 2.628}, {\"year\": 2000, \"country\": \"Japan\", \"cluster\": 4, \"pop\": 126699784, \"life_expect\": 82.0, \"fertility\": 1.291}, {\"year\": 2000, \"country\": \"Kenya\", \"cluster\": 2, \"pop\": 29985839, \"life_expect\": 50.992, \"fertility\": 5.0}, {\"year\": 2000, \"country\": \"South Korea\", \"cluster\": 4, \"pop\": 21647682, \"life_expect\": 66.662, \"fertility\": 1.9173}, {\"year\": 2000, \"country\": \"North Korea\", \"cluster\": 4, \"pop\": 47351083, \"life_expect\": 77.045, \"fertility\": 1.242}, {\"year\": 2000, \"country\": \"Lebanon\", \"cluster\": 5, \"pop\": 3578036, \"life_expect\": 71.028, \"fertility\": 2.319}, {\"year\": 2000, \"country\": \"Mexico\", \"cluster\": 3, \"pop\": 99926620, \"life_expect\": 74.902, \"fertility\": 2.4005}, {\"year\": 2000, \"country\": \"Netherlands\", \"cluster\": 1, \"pop\": 15907853, \"life_expect\": 78.53, \"fertility\": 1.726}, {\"year\": 2000, \"country\": \"New Zealand\", \"cluster\": 4, \"pop\": 3819762, \"life_expect\": 79.11, \"fertility\": 1.964}, {\"year\": 2000, \"country\": \"Nigeria\", \"cluster\": 2, \"pop\": 114306700, \"life_expect\": 46.608, \"fertility\": 5.845}, {\"year\": 2000, \"country\": \"Norway\", \"cluster\": 1, \"pop\": 4492400, \"life_expect\": 79.05, \"fertility\": 1.8010000000000002}, {\"year\": 2000, \"country\": \"Pakistan\", \"cluster\": 0, \"pop\": 146342958, \"life_expect\": 63.61, \"fertility\": 3.9936}, {\"year\": 2000, \"country\": \"Peru\", \"cluster\": 3, \"pop\": 25979722, \"life_expect\": 69.906, \"fertility\": 2.7005}, {\"year\": 2000, \"country\": \"Philippines\", \"cluster\": 4, \"pop\": 79739825, \"life_expect\": 70.303, \"fertility\": 3.5436}, {\"year\": 2000, \"country\": \"Poland\", \"cluster\": 1, \"pop\": 38654164, \"life_expect\": 74.67, \"fertility\": 1.251}, {\"year\": 2000, \"country\": \"Portugal\", \"cluster\": 1, \"pop\": 10335597, \"life_expect\": 77.29, \"fertility\": 1.454}, {\"year\": 2000, \"country\": \"Rwanda\", \"cluster\": 2, \"pop\": 7507056, \"life_expect\": 43.413, \"fertility\": 6.01}, {\"year\": 2000, \"country\": \"Saudi Arabia\", \"cluster\": 5, \"pop\": 23153090, \"life_expect\": 71.626, \"fertility\": 3.81}, {\"year\": 2000, \"country\": \"South Africa\", \"cluster\": 2, \"pop\": 44066197, \"life_expect\": 53.365, \"fertility\": 2.802}, {\"year\": 2000, \"country\": \"Spain\", \"cluster\": 1, \"pop\": 40016081, \"life_expect\": 79.78, \"fertility\": 1.287}, {\"year\": 2000, \"country\": \"Switzerland\", \"cluster\": 1, \"pop\": 7266920, \"life_expect\": 80.62, \"fertility\": 1.415}, {\"year\": 2000, \"country\": \"Turkey\", \"cluster\": 1, \"pop\": 65666677, \"life_expect\": 70.845, \"fertility\": 2.23}, {\"year\": 2000, \"country\": \"United Kingdom\", \"cluster\": 1, \"pop\": 59522468, \"life_expect\": 78.471, \"fertility\": 1.695}, {\"year\": 2000, \"country\": \"United States\", \"cluster\": 3, \"pop\": 282338631, \"life_expect\": 77.31, \"fertility\": 2.038}, {\"year\": 2000, \"country\": \"Venezuela\", \"cluster\": 3, \"pop\": 23542649, \"life_expect\": 72.766, \"fertility\": 2.723}]}}, {\"mode\": \"vega-lite\"});\n",
       "</script>"
      ],
      "text/plain": [
       "alt.Chart(...)"
      ]
     },
     "execution_count": 11,
     "metadata": {},
     "output_type": "execute_result"
    }
   ],
   "source": [
    "alt.Chart(data2000).mark_point().encode(\n",
    "    alt.X('fertility:Q'),\n",
    "    alt.Y('cluster:O')\n",
    ")"
   ]
  },
  {
   "cell_type": "markdown",
   "id": "3ac4eb24",
   "metadata": {},
   "source": [
    "【演習】 OをQにしたらどうなるでしょうか？確認してみましょう。"
   ]
  },
  {
   "cell_type": "code",
   "execution_count": 16,
   "id": "caa6225a",
   "metadata": {},
   "outputs": [
    {
     "data": {
      "text/html": [
       "\n",
       "<style>\n",
       "  #altair-viz-0b48826953644b17961e5bcb62f048f4.vega-embed {\n",
       "    width: 100%;\n",
       "    display: flex;\n",
       "  }\n",
       "\n",
       "  #altair-viz-0b48826953644b17961e5bcb62f048f4.vega-embed details,\n",
       "  #altair-viz-0b48826953644b17961e5bcb62f048f4.vega-embed details summary {\n",
       "    position: relative;\n",
       "  }\n",
       "</style>\n",
       "<div id=\"altair-viz-0b48826953644b17961e5bcb62f048f4\"></div>\n",
       "<script type=\"text/javascript\">\n",
       "  var VEGA_DEBUG = (typeof VEGA_DEBUG == \"undefined\") ? {} : VEGA_DEBUG;\n",
       "  (function(spec, embedOpt){\n",
       "    let outputDiv = document.currentScript.previousElementSibling;\n",
       "    if (outputDiv.id !== \"altair-viz-0b48826953644b17961e5bcb62f048f4\") {\n",
       "      outputDiv = document.getElementById(\"altair-viz-0b48826953644b17961e5bcb62f048f4\");\n",
       "    }\n",
       "    const paths = {\n",
       "      \"vega\": \"https://cdn.jsdelivr.net/npm/vega@5?noext\",\n",
       "      \"vega-lib\": \"https://cdn.jsdelivr.net/npm/vega-lib?noext\",\n",
       "      \"vega-lite\": \"https://cdn.jsdelivr.net/npm/vega-lite@5.8.0?noext\",\n",
       "      \"vega-embed\": \"https://cdn.jsdelivr.net/npm/vega-embed@6?noext\",\n",
       "    };\n",
       "\n",
       "    function maybeLoadScript(lib, version) {\n",
       "      var key = `${lib.replace(\"-\", \"\")}_version`;\n",
       "      return (VEGA_DEBUG[key] == version) ?\n",
       "        Promise.resolve(paths[lib]) :\n",
       "        new Promise(function(resolve, reject) {\n",
       "          var s = document.createElement('script');\n",
       "          document.getElementsByTagName(\"head\")[0].appendChild(s);\n",
       "          s.async = true;\n",
       "          s.onload = () => {\n",
       "            VEGA_DEBUG[key] = version;\n",
       "            return resolve(paths[lib]);\n",
       "          };\n",
       "          s.onerror = () => reject(`Error loading script: ${paths[lib]}`);\n",
       "          s.src = paths[lib];\n",
       "        });\n",
       "    }\n",
       "\n",
       "    function showError(err) {\n",
       "      outputDiv.innerHTML = `<div class=\"error\" style=\"color:red;\">${err}</div>`;\n",
       "      throw err;\n",
       "    }\n",
       "\n",
       "    function displayChart(vegaEmbed) {\n",
       "      vegaEmbed(outputDiv, spec, embedOpt)\n",
       "        .catch(err => showError(`Javascript Error: ${err.message}<br>This usually means there's a typo in your chart specification. See the javascript console for the full traceback.`));\n",
       "    }\n",
       "\n",
       "    if(typeof define === \"function\" && define.amd) {\n",
       "      requirejs.config({paths});\n",
       "      require([\"vega-embed\"], displayChart, err => showError(`Error loading script: ${err.message}`));\n",
       "    } else {\n",
       "      maybeLoadScript(\"vega\", \"5\")\n",
       "        .then(() => maybeLoadScript(\"vega-lite\", \"5.8.0\"))\n",
       "        .then(() => maybeLoadScript(\"vega-embed\", \"6\"))\n",
       "        .catch(showError)\n",
       "        .then(() => displayChart(vegaEmbed));\n",
       "    }\n",
       "  })({\"config\": {\"view\": {\"continuousWidth\": 300, \"continuousHeight\": 300}}, \"data\": {\"name\": \"data-dc20014c059357becdb0821255e71e09\"}, \"mark\": {\"type\": \"point\"}, \"encoding\": {\"x\": {\"field\": \"fertility\", \"type\": \"quantitative\"}, \"y\": {\"field\": \"cluster\", \"type\": \"quantitative\"}}, \"$schema\": \"https://vega.github.io/schema/vega-lite/v5.8.0.json\", \"datasets\": {\"data-dc20014c059357becdb0821255e71e09\": [{\"fertility\": 1.8, \"cluster\": 1}, {\"fertility\": 2.5, \"cluster\": 2}, {\"fertility\": 3.0, \"cluster\": 3}, {\"fertility\": 4.2, \"cluster\": 1}, {\"fertility\": 5.3, \"cluster\": 2}, {\"fertility\": 6.1, \"cluster\": 3}, {\"fertility\": 2.2, \"cluster\": 1}, {\"fertility\": 3.5, \"cluster\": 2}, {\"fertility\": 4.0, \"cluster\": 3}]}}, {\"mode\": \"vega-lite\"});\n",
       "</script>"
      ],
      "text/plain": [
       "alt.Chart(...)"
      ]
     },
     "execution_count": 16,
     "metadata": {},
     "output_type": "execute_result"
    }
   ],
   "source": [
    "# your code goes here\n",
    "alt.Chart(data2000).mark_point().encode(\n",
    "    alt.X('fertility:Q'),\n",
    "    alt.Y('cluster:Q') \n",
    ")\n"
   ]
  },
  {
   "cell_type": "markdown",
   "id": "2da1d7f1",
   "metadata": {},
   "source": [
    "`cluster`のかわりに`life_expect`を量的尺度として追加すると、両軸が線形スケールの散布図になります。"
   ]
  },
  {
   "cell_type": "code",
   "execution_count": 21,
   "id": "be3cc3ca",
   "metadata": {},
   "outputs": [
    {
     "data": {
      "text/html": [
       "\n",
       "<style>\n",
       "  #altair-viz-07987d0b2b7741f0828d2cfb9a65e7b2.vega-embed {\n",
       "    width: 100%;\n",
       "    display: flex;\n",
       "  }\n",
       "\n",
       "  #altair-viz-07987d0b2b7741f0828d2cfb9a65e7b2.vega-embed details,\n",
       "  #altair-viz-07987d0b2b7741f0828d2cfb9a65e7b2.vega-embed details summary {\n",
       "    position: relative;\n",
       "  }\n",
       "</style>\n",
       "<div id=\"altair-viz-07987d0b2b7741f0828d2cfb9a65e7b2\"></div>\n",
       "<script type=\"text/javascript\">\n",
       "  var VEGA_DEBUG = (typeof VEGA_DEBUG == \"undefined\") ? {} : VEGA_DEBUG;\n",
       "  (function(spec, embedOpt){\n",
       "    let outputDiv = document.currentScript.previousElementSibling;\n",
       "    if (outputDiv.id !== \"altair-viz-07987d0b2b7741f0828d2cfb9a65e7b2\") {\n",
       "      outputDiv = document.getElementById(\"altair-viz-07987d0b2b7741f0828d2cfb9a65e7b2\");\n",
       "    }\n",
       "    const paths = {\n",
       "      \"vega\": \"https://cdn.jsdelivr.net/npm/vega@5?noext\",\n",
       "      \"vega-lib\": \"https://cdn.jsdelivr.net/npm/vega-lib?noext\",\n",
       "      \"vega-lite\": \"https://cdn.jsdelivr.net/npm/vega-lite@5.8.0?noext\",\n",
       "      \"vega-embed\": \"https://cdn.jsdelivr.net/npm/vega-embed@6?noext\",\n",
       "    };\n",
       "\n",
       "    function maybeLoadScript(lib, version) {\n",
       "      var key = `${lib.replace(\"-\", \"\")}_version`;\n",
       "      return (VEGA_DEBUG[key] == version) ?\n",
       "        Promise.resolve(paths[lib]) :\n",
       "        new Promise(function(resolve, reject) {\n",
       "          var s = document.createElement('script');\n",
       "          document.getElementsByTagName(\"head\")[0].appendChild(s);\n",
       "          s.async = true;\n",
       "          s.onload = () => {\n",
       "            VEGA_DEBUG[key] = version;\n",
       "            return resolve(paths[lib]);\n",
       "          };\n",
       "          s.onerror = () => reject(`Error loading script: ${paths[lib]}`);\n",
       "          s.src = paths[lib];\n",
       "        });\n",
       "    }\n",
       "\n",
       "    function showError(err) {\n",
       "      outputDiv.innerHTML = `<div class=\"error\" style=\"color:red;\">${err}</div>`;\n",
       "      throw err;\n",
       "    }\n",
       "\n",
       "    function displayChart(vegaEmbed) {\n",
       "      vegaEmbed(outputDiv, spec, embedOpt)\n",
       "        .catch(err => showError(`Javascript Error: ${err.message}<br>This usually means there's a typo in your chart specification. See the javascript console for the full traceback.`));\n",
       "    }\n",
       "\n",
       "    if(typeof define === \"function\" && define.amd) {\n",
       "      requirejs.config({paths});\n",
       "      require([\"vega-embed\"], displayChart, err => showError(`Error loading script: ${err.message}`));\n",
       "    } else {\n",
       "      maybeLoadScript(\"vega\", \"5\")\n",
       "        .then(() => maybeLoadScript(\"vega-lite\", \"5.8.0\"))\n",
       "        .then(() => maybeLoadScript(\"vega-embed\", \"6\"))\n",
       "        .catch(showError)\n",
       "        .then(() => displayChart(vegaEmbed));\n",
       "    }\n",
       "  })({\"config\": {\"view\": {\"continuousWidth\": 300, \"continuousHeight\": 300}}, \"data\": {\"name\": \"data-dc20014c059357becdb0821255e71e09\"}, \"mark\": {\"type\": \"point\"}, \"encoding\": {\"x\": {\"field\": \"fertility\", \"type\": \"quantitative\"}, \"y\": {\"field\": \"life_expect\", \"type\": \"quantitative\"}}, \"$schema\": \"https://vega.github.io/schema/vega-lite/v5.8.0.json\", \"datasets\": {\"data-dc20014c059357becdb0821255e71e09\": [{\"fertility\": 1.8, \"cluster\": 1}, {\"fertility\": 2.5, \"cluster\": 2}, {\"fertility\": 3.0, \"cluster\": 3}, {\"fertility\": 4.2, \"cluster\": 1}, {\"fertility\": 5.3, \"cluster\": 2}, {\"fertility\": 6.1, \"cluster\": 3}, {\"fertility\": 2.2, \"cluster\": 1}, {\"fertility\": 3.5, \"cluster\": 2}, {\"fertility\": 4.0, \"cluster\": 3}]}}, {\"mode\": \"vega-lite\"});\n",
       "</script>"
      ],
      "text/plain": [
       "alt.Chart(...)"
      ]
     },
     "execution_count": 21,
     "metadata": {},
     "output_type": "execute_result"
    }
   ],
   "source": [
    "alt.Chart(data2000).mark_point().encode(\n",
    "    alt.X('fertility:Q'),\n",
    "    alt.Y('life_expect:Q')\n",
    ")"
   ]
  },
  {
   "cell_type": "markdown",
   "id": "afceb39d",
   "metadata": {},
   "source": [
    "デフォルトでは、線形定量尺度の軸は、比例尺度のデータを比較するための適切なベースラインを確保するためにゼロを含んでいます。\n",
    "\n",
    "しかし、場合によっては、ゼロの基準線は無意味であったり、区間比較に焦点を当てたいことがあります。ゼロを自動的に含まないようにするには、`scale`を指定します。"
   ]
  },
  {
   "cell_type": "code",
   "execution_count": 18,
   "id": "d011c2bb",
   "metadata": {},
   "outputs": [
    {
     "data": {
      "text/html": [
       "\n",
       "<style>\n",
       "  #altair-viz-84d3225504aa402daa85064b3e6f7cd6.vega-embed {\n",
       "    width: 100%;\n",
       "    display: flex;\n",
       "  }\n",
       "\n",
       "  #altair-viz-84d3225504aa402daa85064b3e6f7cd6.vega-embed details,\n",
       "  #altair-viz-84d3225504aa402daa85064b3e6f7cd6.vega-embed details summary {\n",
       "    position: relative;\n",
       "  }\n",
       "</style>\n",
       "<div id=\"altair-viz-84d3225504aa402daa85064b3e6f7cd6\"></div>\n",
       "<script type=\"text/javascript\">\n",
       "  var VEGA_DEBUG = (typeof VEGA_DEBUG == \"undefined\") ? {} : VEGA_DEBUG;\n",
       "  (function(spec, embedOpt){\n",
       "    let outputDiv = document.currentScript.previousElementSibling;\n",
       "    if (outputDiv.id !== \"altair-viz-84d3225504aa402daa85064b3e6f7cd6\") {\n",
       "      outputDiv = document.getElementById(\"altair-viz-84d3225504aa402daa85064b3e6f7cd6\");\n",
       "    }\n",
       "    const paths = {\n",
       "      \"vega\": \"https://cdn.jsdelivr.net/npm/vega@5?noext\",\n",
       "      \"vega-lib\": \"https://cdn.jsdelivr.net/npm/vega-lib?noext\",\n",
       "      \"vega-lite\": \"https://cdn.jsdelivr.net/npm/vega-lite@5.8.0?noext\",\n",
       "      \"vega-embed\": \"https://cdn.jsdelivr.net/npm/vega-embed@6?noext\",\n",
       "    };\n",
       "\n",
       "    function maybeLoadScript(lib, version) {\n",
       "      var key = `${lib.replace(\"-\", \"\")}_version`;\n",
       "      return (VEGA_DEBUG[key] == version) ?\n",
       "        Promise.resolve(paths[lib]) :\n",
       "        new Promise(function(resolve, reject) {\n",
       "          var s = document.createElement('script');\n",
       "          document.getElementsByTagName(\"head\")[0].appendChild(s);\n",
       "          s.async = true;\n",
       "          s.onload = () => {\n",
       "            VEGA_DEBUG[key] = version;\n",
       "            return resolve(paths[lib]);\n",
       "          };\n",
       "          s.onerror = () => reject(`Error loading script: ${paths[lib]}`);\n",
       "          s.src = paths[lib];\n",
       "        });\n",
       "    }\n",
       "\n",
       "    function showError(err) {\n",
       "      outputDiv.innerHTML = `<div class=\"error\" style=\"color:red;\">${err}</div>`;\n",
       "      throw err;\n",
       "    }\n",
       "\n",
       "    function displayChart(vegaEmbed) {\n",
       "      vegaEmbed(outputDiv, spec, embedOpt)\n",
       "        .catch(err => showError(`Javascript Error: ${err.message}<br>This usually means there's a typo in your chart specification. See the javascript console for the full traceback.`));\n",
       "    }\n",
       "\n",
       "    if(typeof define === \"function\" && define.amd) {\n",
       "      requirejs.config({paths});\n",
       "      require([\"vega-embed\"], displayChart, err => showError(`Error loading script: ${err.message}`));\n",
       "    } else {\n",
       "      maybeLoadScript(\"vega\", \"5\")\n",
       "        .then(() => maybeLoadScript(\"vega-lite\", \"5.8.0\"))\n",
       "        .then(() => maybeLoadScript(\"vega-embed\", \"6\"))\n",
       "        .catch(showError)\n",
       "        .then(() => displayChart(vegaEmbed));\n",
       "    }\n",
       "  })({\"config\": {\"view\": {\"continuousWidth\": 300, \"continuousHeight\": 300}}, \"data\": {\"name\": \"data-dc20014c059357becdb0821255e71e09\"}, \"mark\": {\"type\": \"point\"}, \"encoding\": {\"x\": {\"field\": \"fertility\", \"scale\": {\"zero\": false}, \"type\": \"quantitative\"}, \"y\": {\"field\": \"life_expect\", \"scale\": {\"zero\": false}, \"type\": \"quantitative\"}}, \"$schema\": \"https://vega.github.io/schema/vega-lite/v5.8.0.json\", \"datasets\": {\"data-dc20014c059357becdb0821255e71e09\": [{\"fertility\": 1.8, \"cluster\": 1}, {\"fertility\": 2.5, \"cluster\": 2}, {\"fertility\": 3.0, \"cluster\": 3}, {\"fertility\": 4.2, \"cluster\": 1}, {\"fertility\": 5.3, \"cluster\": 2}, {\"fertility\": 6.1, \"cluster\": 3}, {\"fertility\": 2.2, \"cluster\": 1}, {\"fertility\": 3.5, \"cluster\": 2}, {\"fertility\": 4.0, \"cluster\": 3}]}}, {\"mode\": \"vega-lite\"});\n",
       "</script>"
      ],
      "text/plain": [
       "alt.Chart(...)"
      ]
     },
     "execution_count": 18,
     "metadata": {},
     "output_type": "execute_result"
    }
   ],
   "source": [
    "alt.Chart(data2000).mark_point().encode(\n",
    "    alt.X('fertility:Q', scale=alt.Scale(zero=False)),\n",
    "    alt.Y('life_expect:Q', scale=alt.Scale(zero=False))\n",
    ")"
   ]
  },
  {
   "cell_type": "markdown",
   "id": "42ebf667",
   "metadata": {},
   "source": [
    "これで、軸にゼロが含まれなくなりました。軸の端は5や10の倍数のようなniceな数字に自動的に調整されるため、いくらかの余白が残っています\n",
    "\n",
    "【演習】 上記のscale属性に`nice=False`を追加するとどうなるでしょうか？試してみましょう。"
   ]
  },
  {
   "cell_type": "code",
   "execution_count": 22,
   "id": "0d50e15f",
   "metadata": {},
   "outputs": [
    {
     "data": {
      "text/html": [
       "\n",
       "<style>\n",
       "  #altair-viz-578572adb71b46e8a4e3f62c3581bec0.vega-embed {\n",
       "    width: 100%;\n",
       "    display: flex;\n",
       "  }\n",
       "\n",
       "  #altair-viz-578572adb71b46e8a4e3f62c3581bec0.vega-embed details,\n",
       "  #altair-viz-578572adb71b46e8a4e3f62c3581bec0.vega-embed details summary {\n",
       "    position: relative;\n",
       "  }\n",
       "</style>\n",
       "<div id=\"altair-viz-578572adb71b46e8a4e3f62c3581bec0\"></div>\n",
       "<script type=\"text/javascript\">\n",
       "  var VEGA_DEBUG = (typeof VEGA_DEBUG == \"undefined\") ? {} : VEGA_DEBUG;\n",
       "  (function(spec, embedOpt){\n",
       "    let outputDiv = document.currentScript.previousElementSibling;\n",
       "    if (outputDiv.id !== \"altair-viz-578572adb71b46e8a4e3f62c3581bec0\") {\n",
       "      outputDiv = document.getElementById(\"altair-viz-578572adb71b46e8a4e3f62c3581bec0\");\n",
       "    }\n",
       "    const paths = {\n",
       "      \"vega\": \"https://cdn.jsdelivr.net/npm/vega@5?noext\",\n",
       "      \"vega-lib\": \"https://cdn.jsdelivr.net/npm/vega-lib?noext\",\n",
       "      \"vega-lite\": \"https://cdn.jsdelivr.net/npm/vega-lite@5.8.0?noext\",\n",
       "      \"vega-embed\": \"https://cdn.jsdelivr.net/npm/vega-embed@6?noext\",\n",
       "    };\n",
       "\n",
       "    function maybeLoadScript(lib, version) {\n",
       "      var key = `${lib.replace(\"-\", \"\")}_version`;\n",
       "      return (VEGA_DEBUG[key] == version) ?\n",
       "        Promise.resolve(paths[lib]) :\n",
       "        new Promise(function(resolve, reject) {\n",
       "          var s = document.createElement('script');\n",
       "          document.getElementsByTagName(\"head\")[0].appendChild(s);\n",
       "          s.async = true;\n",
       "          s.onload = () => {\n",
       "            VEGA_DEBUG[key] = version;\n",
       "            return resolve(paths[lib]);\n",
       "          };\n",
       "          s.onerror = () => reject(`Error loading script: ${paths[lib]}`);\n",
       "          s.src = paths[lib];\n",
       "        });\n",
       "    }\n",
       "\n",
       "    function showError(err) {\n",
       "      outputDiv.innerHTML = `<div class=\"error\" style=\"color:red;\">${err}</div>`;\n",
       "      throw err;\n",
       "    }\n",
       "\n",
       "    function displayChart(vegaEmbed) {\n",
       "      vegaEmbed(outputDiv, spec, embedOpt)\n",
       "        .catch(err => showError(`Javascript Error: ${err.message}<br>This usually means there's a typo in your chart specification. See the javascript console for the full traceback.`));\n",
       "    }\n",
       "\n",
       "    if(typeof define === \"function\" && define.amd) {\n",
       "      requirejs.config({paths});\n",
       "      require([\"vega-embed\"], displayChart, err => showError(`Error loading script: ${err.message}`));\n",
       "    } else {\n",
       "      maybeLoadScript(\"vega\", \"5\")\n",
       "        .then(() => maybeLoadScript(\"vega-lite\", \"5.8.0\"))\n",
       "        .then(() => maybeLoadScript(\"vega-embed\", \"6\"))\n",
       "        .catch(showError)\n",
       "        .then(() => displayChart(vegaEmbed));\n",
       "    }\n",
       "  })({\"config\": {\"view\": {\"continuousWidth\": 300, \"continuousHeight\": 300}}, \"data\": {\"name\": \"data-dc20014c059357becdb0821255e71e09\"}, \"mark\": {\"type\": \"point\"}, \"encoding\": {\"x\": {\"field\": \"fertility\", \"scale\": {\"nice\": false, \"zero\": false}, \"type\": \"quantitative\"}, \"y\": {\"field\": \"life_expect\", \"scale\": {\"nice\": false, \"zero\": false}, \"type\": \"quantitative\"}}, \"$schema\": \"https://vega.github.io/schema/vega-lite/v5.8.0.json\", \"datasets\": {\"data-dc20014c059357becdb0821255e71e09\": [{\"fertility\": 1.8, \"cluster\": 1}, {\"fertility\": 2.5, \"cluster\": 2}, {\"fertility\": 3.0, \"cluster\": 3}, {\"fertility\": 4.2, \"cluster\": 1}, {\"fertility\": 5.3, \"cluster\": 2}, {\"fertility\": 6.1, \"cluster\": 3}, {\"fertility\": 2.2, \"cluster\": 1}, {\"fertility\": 3.5, \"cluster\": 2}, {\"fertility\": 4.0, \"cluster\": 3}]}}, {\"mode\": \"vega-lite\"});\n",
       "</script>"
      ],
      "text/plain": [
       "alt.Chart(...)"
      ]
     },
     "execution_count": 22,
     "metadata": {},
     "output_type": "execute_result"
    }
   ],
   "source": [
    "# your code goes here\n",
    "alt.Chart(data2000).mark_point().encode(\n",
    "    alt.X('fertility:Q', scale=alt.Scale(zero=False, nice=False)),\n",
    "    alt.Y('life_expect:Q', scale=alt.Scale(zero=False, nice=False))\n",
    ")"
   ]
  },
  {
   "cell_type": "markdown",
   "id": "c779f784",
   "metadata": {},
   "source": [
    "### Size"
   ]
  },
  {
   "cell_type": "markdown",
   "id": "b5615709",
   "metadata": {},
   "source": [
    "`size`は、視覚記号の大きさを設定します。この変数の意味は、視覚記号の種類によって異なります。点（`point`）の場合は、点の面積に対応します。\n",
    "\n",
    "`size`に人口（`pop`）を指定することによって、散布図を拡張してみましょう。その結果、このグラフには点の大きさを解釈するための凡例（legend）も含まれるようになりました。"
   ]
  },
  {
   "cell_type": "code",
   "execution_count": 24,
   "id": "e4efc127",
   "metadata": {},
   "outputs": [
    {
     "data": {
      "text/html": [
       "\n",
       "<style>\n",
       "  #altair-viz-d40a4f936f4845d6a21f901d3b028255.vega-embed {\n",
       "    width: 100%;\n",
       "    display: flex;\n",
       "  }\n",
       "\n",
       "  #altair-viz-d40a4f936f4845d6a21f901d3b028255.vega-embed details,\n",
       "  #altair-viz-d40a4f936f4845d6a21f901d3b028255.vega-embed details summary {\n",
       "    position: relative;\n",
       "  }\n",
       "</style>\n",
       "<div id=\"altair-viz-d40a4f936f4845d6a21f901d3b028255\"></div>\n",
       "<script type=\"text/javascript\">\n",
       "  var VEGA_DEBUG = (typeof VEGA_DEBUG == \"undefined\") ? {} : VEGA_DEBUG;\n",
       "  (function(spec, embedOpt){\n",
       "    let outputDiv = document.currentScript.previousElementSibling;\n",
       "    if (outputDiv.id !== \"altair-viz-d40a4f936f4845d6a21f901d3b028255\") {\n",
       "      outputDiv = document.getElementById(\"altair-viz-d40a4f936f4845d6a21f901d3b028255\");\n",
       "    }\n",
       "    const paths = {\n",
       "      \"vega\": \"https://cdn.jsdelivr.net/npm/vega@5?noext\",\n",
       "      \"vega-lib\": \"https://cdn.jsdelivr.net/npm/vega-lib?noext\",\n",
       "      \"vega-lite\": \"https://cdn.jsdelivr.net/npm/vega-lite@5.8.0?noext\",\n",
       "      \"vega-embed\": \"https://cdn.jsdelivr.net/npm/vega-embed@6?noext\",\n",
       "    };\n",
       "\n",
       "    function maybeLoadScript(lib, version) {\n",
       "      var key = `${lib.replace(\"-\", \"\")}_version`;\n",
       "      return (VEGA_DEBUG[key] == version) ?\n",
       "        Promise.resolve(paths[lib]) :\n",
       "        new Promise(function(resolve, reject) {\n",
       "          var s = document.createElement('script');\n",
       "          document.getElementsByTagName(\"head\")[0].appendChild(s);\n",
       "          s.async = true;\n",
       "          s.onload = () => {\n",
       "            VEGA_DEBUG[key] = version;\n",
       "            return resolve(paths[lib]);\n",
       "          };\n",
       "          s.onerror = () => reject(`Error loading script: ${paths[lib]}`);\n",
       "          s.src = paths[lib];\n",
       "        });\n",
       "    }\n",
       "\n",
       "    function showError(err) {\n",
       "      outputDiv.innerHTML = `<div class=\"error\" style=\"color:red;\">${err}</div>`;\n",
       "      throw err;\n",
       "    }\n",
       "\n",
       "    function displayChart(vegaEmbed) {\n",
       "      vegaEmbed(outputDiv, spec, embedOpt)\n",
       "        .catch(err => showError(`Javascript Error: ${err.message}<br>This usually means there's a typo in your chart specification. See the javascript console for the full traceback.`));\n",
       "    }\n",
       "\n",
       "    if(typeof define === \"function\" && define.amd) {\n",
       "      requirejs.config({paths});\n",
       "      require([\"vega-embed\"], displayChart, err => showError(`Error loading script: ${err.message}`));\n",
       "    } else {\n",
       "      maybeLoadScript(\"vega\", \"5\")\n",
       "        .then(() => maybeLoadScript(\"vega-lite\", \"5.8.0\"))\n",
       "        .then(() => maybeLoadScript(\"vega-embed\", \"6\"))\n",
       "        .catch(showError)\n",
       "        .then(() => displayChart(vegaEmbed));\n",
       "    }\n",
       "  })({\"config\": {\"view\": {\"continuousWidth\": 300, \"continuousHeight\": 300}}, \"data\": {\"name\": \"data-dc20014c059357becdb0821255e71e09\"}, \"mark\": {\"type\": \"point\"}, \"encoding\": {\"size\": {\"field\": \"pop\", \"type\": \"quantitative\"}, \"x\": {\"field\": \"fertility\", \"type\": \"quantitative\"}, \"y\": {\"field\": \"life_expect\", \"type\": \"quantitative\"}}, \"$schema\": \"https://vega.github.io/schema/vega-lite/v5.8.0.json\", \"datasets\": {\"data-dc20014c059357becdb0821255e71e09\": [{\"fertility\": 1.8, \"cluster\": 1}, {\"fertility\": 2.5, \"cluster\": 2}, {\"fertility\": 3.0, \"cluster\": 3}, {\"fertility\": 4.2, \"cluster\": 1}, {\"fertility\": 5.3, \"cluster\": 2}, {\"fertility\": 6.1, \"cluster\": 3}, {\"fertility\": 2.2, \"cluster\": 1}, {\"fertility\": 3.5, \"cluster\": 2}, {\"fertility\": 4.0, \"cluster\": 3}]}}, {\"mode\": \"vega-lite\"});\n",
       "</script>"
      ],
      "text/plain": [
       "alt.Chart(...)"
      ]
     },
     "execution_count": 24,
     "metadata": {},
     "output_type": "execute_result"
    }
   ],
   "source": [
    "alt.Chart(data2000).mark_point().encode(\n",
    "    alt.X('fertility:Q'),\n",
    "    alt.Y('life_expect:Q'),\n",
    "    alt.Size('pop:Q')\n",
    ")"
   ]
  },
  {
   "cell_type": "markdown",
   "id": "a693b3f7",
   "metadata": {},
   "source": [
    "場合によっては、デフォルトのサイズ範囲ではうまくいかないことがあります。サイズの範囲を指定するには、scale属性の`range`パラメータに、最小と最大のサイズを示す配列を渡します。"
   ]
  },
  {
   "cell_type": "code",
   "execution_count": null,
   "id": "4b9cacf7",
   "metadata": {},
   "outputs": [],
   "source": [
    "alt.Chart(data2000).mark_point().encode(\n",
    "    alt.X('fertility:Q'),\n",
    "    alt.Y('life_expect:Q'),\n",
    "    alt.Size('pop:Q', scale=alt.Scale(range=[0, 1000]))\n",
    ")"
   ]
  },
  {
   "cell_type": "markdown",
   "id": "c54d0199",
   "metadata": {},
   "source": [
    "### Color and Opacity\n",
    "\n",
    "`color`は、視覚記号の色を設定します。名義尺度はカテゴリカルな配色になりますが、順序尺度と量的尺度は連続的なカラーグラデーションが使われます。\n",
    "\n",
    "ここでは、`cluster`変数を`color`を使って表現してみます。"
   ]
  },
  {
   "cell_type": "code",
   "execution_count": null,
   "id": "c50d0211",
   "metadata": {},
   "outputs": [],
   "source": [
    "alt.Chart(data2000).mark_point().encode(\n",
    "    alt.X('fertility:Q'),\n",
    "    alt.Y('life_expect:Q'),\n",
    "    alt.Size('pop:Q', scale=alt.Scale(range=[0,1000])),\n",
    "    alt.Color('cluster:N')\n",
    ")"
   ]
  },
  {
   "cell_type": "markdown",
   "id": "8076f5fd",
   "metadata": {},
   "source": [
    "【演習】円を塗りつぶしたいときは、`mark_point`に対して`filled=True`と指定すればOKです。試してみましょう。"
   ]
  },
  {
   "cell_type": "code",
   "execution_count": 21,
   "id": "4c4f1813",
   "metadata": {},
   "outputs": [],
   "source": [
    "# your code goes here\n"
   ]
  },
  {
   "cell_type": "markdown",
   "id": "c99c5f96",
   "metadata": {},
   "source": [
    "重ねて表示することに対応するために、塗りつぶしはデフォルトでは半透明になっています。`opacity`を指定することで、透明度を調整できます。"
   ]
  },
  {
   "cell_type": "code",
   "execution_count": null,
   "id": "2e296789",
   "metadata": {},
   "outputs": [],
   "source": [
    "alt.Chart(data2000).mark_point(filled=True).encode(\n",
    "    alt.X('fertility:Q'),\n",
    "    alt.Y('life_expect:Q'),\n",
    "    alt.Size('pop:Q', scale=alt.Scale(range=[0,1000])),\n",
    "    alt.Color('cluster:N'),\n",
    "    alt.OpacityValue(0.9)\n",
    ")"
   ]
  },
  {
   "cell_type": "markdown",
   "id": "00189b67",
   "metadata": {},
   "source": [
    "### Shape\n",
    "\n",
    "`shape`は、視覚記号の形を指定します。この視覚変数は、視覚記号pointに対してのみ有効です。また、名義尺度にのみ使うことができます。\n",
    "\n",
    "`cluster`に対して、色だけではなく形も指定してみます。同じデータ変数に対して複数の視覚変数を使用することは、冗長エンコーディングとして知られています。が、色と形やパターンを併用することは、アクセシビリティを確保する上で重要です（色覚障害などに対応）。"
   ]
  },
  {
   "cell_type": "code",
   "execution_count": null,
   "id": "55617381",
   "metadata": {},
   "outputs": [],
   "source": [
    "alt.Chart(data2000).mark_point(filled=True).encode(\n",
    "    alt.X('fertility:Q'),\n",
    "    alt.Y('life_expect:Q'),\n",
    "    alt.Size('pop:Q', scale=alt.Scale(range=[0,1000])),\n",
    "    alt.Color('cluster:N'),\n",
    "    alt.OpacityValue(0.5),\n",
    "    alt.Shape('cluster:N')\n",
    ")"
   ]
  },
  {
   "cell_type": "markdown",
   "id": "7d9ef79b",
   "metadata": {},
   "source": [
    "### Tooltips and Ordering\n",
    "\n",
    "ここまで図を作ってきましたが、どの国がどの点に対応するのかがまだ分かりません。国名を表示し、データ探索ができるようにしましょう。\n",
    "\n"
   ]
  },
  {
   "cell_type": "code",
   "execution_count": null,
   "id": "d1fa5848",
   "metadata": {},
   "outputs": [],
   "source": [
    "alt.Chart(data2000).mark_point(filled=True).encode(\n",
    "    alt.X('fertility:Q'),\n",
    "    alt.Y('life_expect:Q'),\n",
    "    alt.Size('pop:Q', scale=alt.Scale(range=[0,1000])),\n",
    "    alt.Color('cluster:N'),\n",
    "    alt.OpacityValue(0.5),\n",
    "    alt.Tooltip('country')\n",
    ")"
   ]
  },
  {
   "cell_type": "markdown",
   "id": "2178d29d",
   "metadata": {},
   "source": [
    "これで、マウスカーソルをあてると、国名が表示されるようになりました。しかし、重なっている部分に表示できない国名があることが分かります。\n",
    "\n",
    "描画順序を調整してみましょう。`pop`を降順に並べ、小さい円が大きい円より後に描画されるようにします。"
   ]
  },
  {
   "cell_type": "code",
   "execution_count": null,
   "id": "f33070ca",
   "metadata": {},
   "outputs": [],
   "source": [
    "alt.Chart(data2000).mark_point(filled=True).encode(\n",
    "    alt.X('fertility:Q'),\n",
    "    alt.Y('life_expect:Q'),\n",
    "    alt.Size('pop:Q', scale=alt.Scale(range=[0,1000])),\n",
    "    alt.Color('cluster:N'),\n",
    "    alt.OpacityValue(0.5),\n",
    "    alt.Tooltip('country:N'),\n",
    "    alt.Order('pop:Q', sort='descending')\n",
    ")"
   ]
  },
  {
   "cell_type": "markdown",
   "id": "2cc17dc6",
   "metadata": {},
   "source": [
    "これで、例えばIndiaに隠れていたBangladeshを表示できるようになりました。"
   ]
  },
  {
   "cell_type": "markdown",
   "id": "38a09d61",
   "metadata": {},
   "source": [
    "また、Tooltipには複数の値を表示することもできます。"
   ]
  },
  {
   "cell_type": "code",
   "execution_count": null,
   "id": "3790d73f",
   "metadata": {},
   "outputs": [],
   "source": [
    "alt.Chart(data2000).mark_point(filled=True).encode(\n",
    "    alt.X('fertility:Q'),\n",
    "    alt.Y('life_expect:Q'),\n",
    "    alt.Size('pop:Q', scale=alt.Scale(range=[0,1000])),\n",
    "    alt.Color('cluster:N'),\n",
    "    alt.OpacityValue(0.5),\n",
    "    alt.Order('pop:Q', sort='descending'),\n",
    "    tooltip = [\n",
    "        alt.Tooltip('country:N'),\n",
    "        alt.Tooltip('fertility:Q'),\n",
    "        alt.Tooltip('life_expect:Q')\n",
    "    ]\n",
    ")"
   ]
  },
  {
   "cell_type": "markdown",
   "id": "10e299f1",
   "metadata": {},
   "source": [
    "### Column and Row Facets\n",
    "\n",
    "複数の可視化を配置する方法として、行や列からなるサブプロットを並べることができます。\n",
    "\n",
    "ここでは、`cluster`ごとに分割して並べてみましょう。"
   ]
  },
  {
   "cell_type": "code",
   "execution_count": null,
   "id": "83b45fef",
   "metadata": {},
   "outputs": [],
   "source": [
    "alt.Chart(data2000).mark_point(filled=True).encode(\n",
    "    alt.X('fertility:Q'),\n",
    "    alt.Y('life_expect:Q'),\n",
    "    alt.Size('pop:Q', scale=alt.Scale(range=[0,1000])),\n",
    "    alt.Color('cluster:N'),\n",
    "    alt.OpacityValue(0.5),\n",
    "    alt.Tooltip('country:N'),\n",
    "    alt.Order('pop:Q', sort='descending'),\n",
    "    alt.Column('cluster:N')\n",
    ")"
   ]
  },
  {
   "cell_type": "markdown",
   "id": "ddb69257",
   "metadata": {},
   "source": [
    "上の可視化は画面に収まらないので、複数の図を一度に比較するのが難しいです。図の大きさを調整してみましょう。\n",
    "\n",
    "また、`cluster`はすでに列ごとに表現されているので、`legend=None`として凡例を削除しましょう。\n",
    "\n",
    "更に、`pop`の凡例を図の下部に持ってきてスペースを節約します。"
   ]
  },
  {
   "cell_type": "code",
   "execution_count": null,
   "id": "c71d9c27",
   "metadata": {},
   "outputs": [],
   "source": [
    "alt.Chart(data2000).mark_point(filled=True).encode(\n",
    "    alt.X('fertility:Q'),\n",
    "    alt.Y('life_expect:Q'),\n",
    "    alt.Size('pop:Q', scale=alt.Scale(range=[0,1000]),\n",
    "             legend=alt.Legend(orient='bottom', titleOrient='left')),\n",
    "    alt.Color('cluster:N', legend=None),\n",
    "    alt.OpacityValue(0.5),\n",
    "    alt.Tooltip('country:N'),\n",
    "    alt.Order('pop:Q', sort='descending'),\n",
    "    alt.Column('cluster:N')\n",
    ").properties(width=135, height=135)"
   ]
  },
  {
   "cell_type": "markdown",
   "id": "8cdaf126",
   "metadata": {},
   "source": [
    "【演習】それでは、上の図を行ごとに表示するよう書き直してみたらどうなるでしょう？試してみましょう。"
   ]
  },
  {
   "cell_type": "code",
   "execution_count": 29,
   "id": "319c7707",
   "metadata": {},
   "outputs": [],
   "source": [
    "# your code goes here\n"
   ]
  },
  {
   "cell_type": "markdown",
   "id": "351f4a66",
   "metadata": {},
   "source": [
    "### Interaction"
   ]
  },
  {
   "cell_type": "markdown",
   "id": "20918815",
   "metadata": {},
   "source": [
    "データ探索に便利な機能として、スライダーを追加することができます。\n",
    "\n",
    "全体のデータフレームを使って、`year`をスライダーに割り当ててみましょう。\n",
    "\n",
    "年を経るごとに、`fertility`と`life_expect`はどのように変化しているでしょうか？また、異なる国の相対的な変化はどうでしょうか？"
   ]
  },
  {
   "cell_type": "code",
   "execution_count": null,
   "id": "22c88667",
   "metadata": {},
   "outputs": [],
   "source": [
    "select_year = alt.selection_single(\n",
    "    name='select', fields=['year'], value=[{'year': 1955}],\n",
    "    bind=alt.binding_range(min=1955, max=2005, step=5)\n",
    ")\n",
    "\n",
    "alt.Chart(data).mark_point(filled=True).encode(\n",
    "    alt.X('fertility:Q', scale=alt.Scale(domain=[0,9])),\n",
    "    alt.Y('life_expect:Q', scale=alt.Scale(domain=[0,90])),\n",
    "    alt.Size('pop:Q', scale=alt.Scale(domain=[0, 1200000000], range=[0,1000])),\n",
    "    alt.Color('cluster:N', legend=None),\n",
    "    alt.OpacityValue(0.5),\n",
    "    alt.Tooltip('country:N'),\n",
    "    alt.Order('pop:Q', sort='descending')\n",
    ").add_selection(select_year).transform_filter(select_year)"
   ]
  },
  {
   "cell_type": "markdown",
   "id": "b2a36c0c-cb30-400b-8d33-406b10b7d2cb",
   "metadata": {},
   "source": [
    "**上のコードでエラーが出たら、以下のコードを使ってください。**"
   ]
  },
  {
   "cell_type": "code",
   "execution_count": null,
   "id": "4cf5cb6e-14d0-40b8-9e9e-bd0809284e3e",
   "metadata": {},
   "outputs": [],
   "source": [
    "select_year = alt.selection_single(\n",
    "    name='select', fields=['year'], init={'year': 1955},\n",
    "    bind=alt.binding_range(min=1955, max=2005, step=5)\n",
    ")\n",
    "\n",
    "alt.Chart(data).mark_point(filled=True).encode(\n",
    "    alt.X('fertility:Q', scale=alt.Scale(domain=[0,9])),\n",
    "    alt.Y('life_expect:Q', scale=alt.Scale(domain=[0,90])),\n",
    "    alt.Size('pop:Q', scale=alt.Scale(domain=[0, 1200000000], range=[0,1000])),\n",
    "    alt.Color('cluster:N', legend=None),\n",
    "    alt.OpacityValue(0.5),\n",
    "    alt.Tooltip('country:N'),\n",
    "    alt.Order('pop:Q', sort='descending')\n",
    ").add_selection(select_year).transform_filter(select_year)"
   ]
  },
  {
   "cell_type": "markdown",
   "id": "42864c12",
   "metadata": {},
   "source": [
    "## 視覚記号"
   ]
  },
  {
   "cell_type": "markdown",
   "id": "fe59dddd",
   "metadata": {},
   "source": [
    "ここまで、視覚変数の勉強のため、視覚記号として`mark_point`のみを使ってきました。\n",
    "\n",
    "他に使用できる視覚記号として、下記があります。\n",
    "\n",
    "* `mark_area()`：トップラインとベースラインで定義された塗りつぶし領域\n",
    "* `mark_bar()`：長方形の棒\n",
    "* `mark_circle()`：塗りつぶされた円\n",
    "* `mark_line()`：線分\n",
    "* `mark_point()`：形状を設定できる点\n",
    "* `mark_rect()`：塗りつぶされた矩形\n",
    "* `mark_rule()`：軸にかかる線分\n",
    "* `mark_square()`：塗りつぶされた四角\n",
    "* `mark_text()`：文字\n",
    "* `mark_tick()`：水平か垂直の刻み目"
   ]
  },
  {
   "cell_type": "markdown",
   "id": "a7694fbf",
   "metadata": {},
   "source": [
    "### Point"
   ]
  },
  {
   "cell_type": "code",
   "execution_count": null,
   "id": "4f3de85c",
   "metadata": {},
   "outputs": [],
   "source": [
    "alt.Chart(data2000).mark_point().encode(\n",
    "    alt.X('fertility:Q'),\n",
    "    alt.Y('cluster:N'),\n",
    "    alt.Shape('cluster:N')\n",
    ")"
   ]
  },
  {
   "cell_type": "markdown",
   "id": "e29d0e02",
   "metadata": {},
   "source": [
    "引数を与えることで、見た目を調整できます。"
   ]
  },
  {
   "cell_type": "code",
   "execution_count": null,
   "id": "ad0b4168",
   "metadata": {},
   "outputs": [],
   "source": [
    "alt.Chart(data2000).mark_point(filled=True, size=100).encode(\n",
    "    alt.X('fertility:Q'),\n",
    "    alt.Y('cluster:N'),\n",
    "    alt.Shape('cluster:N')\n",
    ")"
   ]
  },
  {
   "cell_type": "markdown",
   "id": "47bd880a",
   "metadata": {},
   "source": [
    "### Circle"
   ]
  },
  {
   "cell_type": "markdown",
   "id": "e96673d6",
   "metadata": {},
   "source": [
    "`mark_circle()`は、`mark_point(filled=True)`と等価です。"
   ]
  },
  {
   "cell_type": "code",
   "execution_count": null,
   "id": "ad32bb66",
   "metadata": {},
   "outputs": [],
   "source": [
    "alt.Chart(data2000).mark_circle(size=100).encode(\n",
    "    alt.X('fertility:Q'),\n",
    "    alt.Y('cluster:N'),\n",
    "    alt.Shape('cluster:N')\n",
    ")"
   ]
  },
  {
   "cell_type": "markdown",
   "id": "6b75b118",
   "metadata": {},
   "source": [
    "### Square"
   ]
  },
  {
   "cell_type": "code",
   "execution_count": null,
   "id": "0703d7b6",
   "metadata": {},
   "outputs": [],
   "source": [
    "alt.Chart(data2000).mark_square(size=100).encode(\n",
    "    alt.X('fertility:Q'),\n",
    "    alt.Y('cluster:N'),\n",
    "    alt.Shape('cluster:N')\n",
    ")"
   ]
  },
  {
   "cell_type": "markdown",
   "id": "3d4bcffc",
   "metadata": {},
   "source": [
    "【演習】四角の大きさを200に指定してみましょう"
   ]
  },
  {
   "cell_type": "code",
   "execution_count": 36,
   "id": "75a116cc",
   "metadata": {},
   "outputs": [],
   "source": [
    "# your code goes here\n"
   ]
  },
  {
   "cell_type": "markdown",
   "id": "a8f601cb",
   "metadata": {},
   "source": [
    "### Tick"
   ]
  },
  {
   "cell_type": "markdown",
   "id": "21df305e",
   "metadata": {},
   "source": [
    "`mark_tick()`は、一次元の分布を比較するのに便利です。"
   ]
  },
  {
   "cell_type": "code",
   "execution_count": null,
   "id": "2fca0fdf",
   "metadata": {},
   "outputs": [],
   "source": [
    "alt.Chart(data2000).mark_tick().encode(\n",
    "    alt.X('fertility:Q'),\n",
    "    alt.Y('cluster:N'),\n",
    "    alt.Shape('cluster:N')\n",
    ")"
   ]
  },
  {
   "cell_type": "markdown",
   "id": "510f4e1a",
   "metadata": {},
   "source": [
    "### Bar"
   ]
  },
  {
   "cell_type": "markdown",
   "id": "d9ae69a2",
   "metadata": {},
   "source": [
    "`mark_bar()`は、位置、幅、高さを持つ矩形を描画します。"
   ]
  },
  {
   "cell_type": "code",
   "execution_count": null,
   "id": "2c9c9954",
   "metadata": {},
   "outputs": [],
   "source": [
    "alt.Chart(data2000).mark_bar().encode(\n",
    "    alt.X('country:N'),\n",
    "    alt.Y('pop:Q')\n",
    ")"
   ]
  },
  {
   "cell_type": "markdown",
   "id": "be6bf8e2",
   "metadata": {},
   "source": [
    "棒を積み重ねることもできます。"
   ]
  },
  {
   "cell_type": "code",
   "execution_count": null,
   "id": "85c3a602",
   "metadata": {},
   "outputs": [],
   "source": [
    "alt.Chart(data2000).mark_bar().encode(\n",
    "    alt.X('cluster:N'),\n",
    "    alt.Y('pop:Q'),\n",
    "    alt.Color('country:N', legend=None),\n",
    "    alt.Tooltip('country:N')\n",
    ")"
   ]
  },
  {
   "cell_type": "markdown",
   "id": "95c7d0da",
   "metadata": {},
   "source": [
    "デフォルトでは0から矩形を描画しますが、次の例のように始点（`X`）と終点（`X2`）を指定することもできます。\n",
    "\n",
    "ここでは、`cluster`ごとに、平均寿命の最小値と最大値を始点と終点に指定して、棒グラフを描画してみます。"
   ]
  },
  {
   "cell_type": "code",
   "execution_count": null,
   "id": "2fe03b49",
   "metadata": {},
   "outputs": [],
   "source": [
    "alt.Chart(data2000).mark_bar().encode(\n",
    "    alt.X('min(life_expect):Q'),\n",
    "    alt.X2('max(life_expect):Q'),\n",
    "    alt.Y('cluster:N')\n",
    ")"
   ]
  },
  {
   "cell_type": "markdown",
   "id": "7b7bb2ab",
   "metadata": {},
   "source": [
    "### Line"
   ]
  },
  {
   "cell_type": "markdown",
   "id": "f7e4a11d",
   "metadata": {},
   "source": [
    "`mark_line()`は、点をつなげる線分を描画します。これによって、例えば変化の度合いがわかります。\n",
    "\n",
    "ここでは、国ごとの`fertility`の経年変化を見てみましょう。"
   ]
  },
  {
   "cell_type": "code",
   "execution_count": null,
   "id": "8d20fe98",
   "metadata": {},
   "outputs": [],
   "source": [
    "alt.Chart(data).mark_line().encode(\n",
    "    alt.X('year:O'),\n",
    "    alt.Y('fertility:Q'),\n",
    "    alt.Color('country:N')\n",
    ").properties(\n",
    "    width=400\n",
    ")"
   ]
  },
  {
   "cell_type": "markdown",
   "id": "9a1842bb",
   "metadata": {},
   "source": [
    "国が多すぎて凡例が途中で途切れていることがわかります。\n",
    "\n",
    "【演習】凡例を消して、かわりにTooltipsに国名を表示してみましょう。"
   ]
  },
  {
   "cell_type": "code",
   "execution_count": 42,
   "id": "23f46170",
   "metadata": {},
   "outputs": [],
   "source": [
    "# your code goes here\n"
   ]
  },
  {
   "cell_type": "markdown",
   "id": "030ec716",
   "metadata": {},
   "source": [
    "`strokeWidth`で線分の太さを、`opacity`で透明度を指定することができます。\n",
    "\n",
    "また、`interpolate`で線分をなめらかにするための補間方式を指定することができます。"
   ]
  },
  {
   "cell_type": "code",
   "execution_count": null,
   "id": "1cc2dc7f",
   "metadata": {},
   "outputs": [],
   "source": [
    "alt.Chart(data).mark_line(\n",
    "    strokeWidth=3,\n",
    "    opacity=0.5,\n",
    "    interpolate='monotone'\n",
    ").encode(\n",
    "    alt.X('year:O'),\n",
    "    alt.Y('fertility:Q'),\n",
    "    alt.Color('country:N', legend=None),\n",
    "    alt.Tooltip('country:N')\n",
    ").properties(\n",
    "    width=400\n",
    ")"
   ]
  },
  {
   "cell_type": "markdown",
   "id": "306aed12",
   "metadata": {},
   "source": [
    "`mark_line()`は、2つの状態間の比較に使うこともできます（スロープグラフ）。\n",
    "\n",
    "ここでは、国ごとに1955年と2005年の`fertility`を比較してみましょう。"
   ]
  },
  {
   "cell_type": "code",
   "execution_count": null,
   "id": "b6b1b601",
   "metadata": {},
   "outputs": [],
   "source": [
    "dataTime = data.loc[(data['year'] == 1955) | (data['year'] == 2005)]\n",
    "\n",
    "alt.Chart(dataTime).mark_line(opacity=0.5).encode(\n",
    "    alt.X('year:O'),\n",
    "    alt.Y('pop:Q'),\n",
    "    alt.Color('country:N', legend=None),\n",
    "    alt.Tooltip('country:N')\n",
    ").properties(\n",
    "    width={\"step\": 100} # adjust the step parameter\n",
    ")"
   ]
  },
  {
   "cell_type": "markdown",
   "id": "29d3ba38",
   "metadata": {},
   "source": [
    "【演習】引数`step`を調整して、値の変化が可視化とそれが与える印象にどのような変化をもたらすのかを観察してみましょう。"
   ]
  },
  {
   "cell_type": "code",
   "execution_count": 45,
   "id": "b88069a8",
   "metadata": {},
   "outputs": [],
   "source": [
    "# your code goes here\n"
   ]
  },
  {
   "cell_type": "markdown",
   "id": "aef48052",
   "metadata": {},
   "source": [
    "### Area"
   ]
  },
  {
   "cell_type": "markdown",
   "id": "a3e9c421",
   "metadata": {},
   "source": [
    "`mark_area()`は、折れ線と棒を組み合わせたようなもので、変化と大きさを同時に表現します。\n",
    "\n",
    "アメリカの人口の経年変化を見てみましょう。"
   ]
  },
  {
   "cell_type": "code",
   "execution_count": null,
   "id": "43879693",
   "metadata": {},
   "outputs": [],
   "source": [
    "dataUS = data.loc[data['country'] == 'United States']\n",
    "\n",
    "alt.Chart(dataUS).mark_area().encode(\n",
    "    alt.X('year:O'),\n",
    "    alt.Y('pop:Q')\n",
    ")"
   ]
  },
  {
   "cell_type": "markdown",
   "id": "303eb7ca",
   "metadata": {},
   "source": [
    "棒と同様に、積み重ねることができます。"
   ]
  },
  {
   "cell_type": "code",
   "execution_count": null,
   "id": "f84792a3",
   "metadata": {},
   "outputs": [],
   "source": [
    "dataNA = data.loc[\n",
    "    (data['country'] == 'United States') |\n",
    "    (data['country'] == 'Canada') |\n",
    "    (data['country'] == 'Mexico')\n",
    "]\n",
    "\n",
    "alt.Chart(dataNA).mark_area().encode(\n",
    "    alt.X('year:O'),\n",
    "    alt.Y('pop:Q'),\n",
    "    alt.Color('country:N')\n",
    ")"
   ]
  },
  {
   "cell_type": "markdown",
   "id": "abf2faa2",
   "metadata": {},
   "source": [
    "デフォルトでは0から積み重ねますが、軸の中心から積み重ねたり、比率によって積み重ねることができます。"
   ]
  },
  {
   "cell_type": "code",
   "execution_count": null,
   "id": "211b38da",
   "metadata": {},
   "outputs": [],
   "source": [
    "alt.Chart(dataNA).mark_area().encode(\n",
    "    alt.X('year:O'),\n",
    "    alt.Y('pop:Q', stack='center'),\n",
    "    alt.Color('country:N')\n",
    ")"
   ]
  },
  {
   "cell_type": "code",
   "execution_count": null,
   "id": "e576686c",
   "metadata": {},
   "outputs": [],
   "source": [
    "alt.Chart(dataNA).mark_area().encode(\n",
    "    alt.X('year:O'),\n",
    "    alt.Y('pop:Q', stack='normalize'),\n",
    "    alt.Color('country:N')\n",
    ")"
   ]
  },
  {
   "cell_type": "markdown",
   "id": "72a5706d",
   "metadata": {},
   "source": [
    "また、積み重ねるのではなく、重ね合わせることもできます。この時、不透明度を指定することで重なった層を確認できます。"
   ]
  },
  {
   "cell_type": "code",
   "execution_count": null,
   "id": "2c9ac379",
   "metadata": {},
   "outputs": [],
   "source": [
    "alt.Chart(dataNA).mark_area(opacity=0.5).encode(\n",
    "    alt.X('year:O'),\n",
    "    alt.Y('pop:Q', stack=None),\n",
    "    alt.Color('country:N')\n",
    ")"
   ]
  },
  {
   "cell_type": "markdown",
   "id": "c068a145",
   "metadata": {},
   "source": [
    "また、棒と同様に、始点と終点を指定することができます。\n",
    "\n",
    "始点と終点にそれぞれ、北米の国の`fertility`の最小値と最大値を指定してみましょう。"
   ]
  },
  {
   "cell_type": "code",
   "execution_count": null,
   "id": "461428df",
   "metadata": {},
   "outputs": [],
   "source": [
    "alt.Chart(dataNA).mark_area().encode(\n",
    "    alt.X('year:O'),\n",
    "    alt.Y('min(fertility):Q'),\n",
    "    alt.Y2('max(fertility):Q')\n",
    ").properties(\n",
    "    width={\"step\": 40}\n",
    ")"
   ]
  },
  {
   "cell_type": "markdown",
   "id": "60478f5f",
   "metadata": {},
   "source": [
    "差が縮まっていることがわかりますね。\n",
    "\n",
    "【演習】上の図のx軸とy軸を入れ替えることで、図を転置できます。試してみましょう。"
   ]
  },
  {
   "cell_type": "code",
   "execution_count": 52,
   "id": "db2b5b5e",
   "metadata": {},
   "outputs": [],
   "source": [
    "# your code goes here\n"
   ]
  },
  {
   "cell_type": "markdown",
   "id": "9f52cf05",
   "metadata": {},
   "source": [
    "---"
   ]
  },
  {
   "cell_type": "markdown",
   "id": "a7c68e2a",
   "metadata": {},
   "source": [
    "これで、Altairによるエンコーディングの練習はひととおり終了です。\n",
    "\n",
    "もっと高度な使い方については、いつもの通り、公式ドキュメントを見てみましょう。\n",
    "\n",
    "Altair: https://altair-viz.github.io/"
   ]
  }
 ],
 "metadata": {
  "kernelspec": {
   "display_name": "base",
   "language": "python",
   "name": "python3"
  },
  "language_info": {
   "codemirror_mode": {
    "name": "ipython",
    "version": 3
   },
   "file_extension": ".py",
   "mimetype": "text/x-python",
   "name": "python",
   "nbconvert_exporter": "python",
   "pygments_lexer": "ipython3",
   "version": "3.11.7"
  }
 },
 "nbformat": 4,
 "nbformat_minor": 5
}
